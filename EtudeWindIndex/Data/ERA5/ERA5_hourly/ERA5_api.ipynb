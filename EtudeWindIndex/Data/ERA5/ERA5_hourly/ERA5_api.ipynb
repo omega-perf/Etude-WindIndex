{
 "cells": [
  {
   "cell_type": "markdown",
   "metadata": {},
   "source": [
    "# ERA5\n",
    "Extraction of ERA5 Netcdf File"
   ]
  },
  {
   "cell_type": "markdown",
   "metadata": {},
   "source": [
    "## 0 Set-up"
   ]
  },
  {
   "cell_type": "code",
   "execution_count": 1,
   "metadata": {},
   "outputs": [],
   "source": [
    "# installation"
   ]
  },
  {
   "cell_type": "code",
   "execution_count": 2,
   "metadata": {},
   "outputs": [
    {
     "name": "stdout",
     "output_type": "stream",
     "text": [
      "Requirement already satisfied: pykeepass in /home/ec2-user/anaconda3/envs/amazonei_mxnet_p36/lib/python3.6/site-packages (4.0.1)\n",
      "Requirement already satisfied: cdsapi in /home/ec2-user/anaconda3/envs/amazonei_mxnet_p36/lib/python3.6/site-packages (0.5.1)\n",
      "Requirement already satisfied: pycryptodomex>=3.6.2 in /home/ec2-user/anaconda3/envs/amazonei_mxnet_p36/lib/python3.6/site-packages (from pykeepass) (3.12.0)\n",
      "Requirement already satisfied: future in /home/ec2-user/anaconda3/envs/amazonei_mxnet_p36/lib/python3.6/site-packages (from pykeepass) (0.18.2)\n",
      "Requirement already satisfied: lxml in /home/ec2-user/anaconda3/envs/amazonei_mxnet_p36/lib/python3.6/site-packages (from pykeepass) (4.6.4)\n",
      "Requirement already satisfied: argon2-cffi in /home/ec2-user/anaconda3/envs/amazonei_mxnet_p36/lib/python3.6/site-packages (from pykeepass) (20.1.0)\n",
      "Requirement already satisfied: python-dateutil in /home/ec2-user/anaconda3/envs/amazonei_mxnet_p36/lib/python3.6/site-packages (from pykeepass) (2.8.1)\n",
      "Requirement already satisfied: construct==2.10.54 in /home/ec2-user/anaconda3/envs/amazonei_mxnet_p36/lib/python3.6/site-packages (from pykeepass) (2.10.54)\n",
      "Requirement already satisfied: tqdm in /home/ec2-user/anaconda3/envs/amazonei_mxnet_p36/lib/python3.6/site-packages (from cdsapi) (4.62.3)\n",
      "Requirement already satisfied: requests>=2.5.0 in /home/ec2-user/anaconda3/envs/amazonei_mxnet_p36/lib/python3.6/site-packages (from cdsapi) (2.26.0)\n",
      "Requirement already satisfied: certifi>=2017.4.17 in /home/ec2-user/anaconda3/envs/amazonei_mxnet_p36/lib/python3.6/site-packages (from requests>=2.5.0->cdsapi) (2021.5.30)\n",
      "Requirement already satisfied: charset-normalizer~=2.0.0 in /home/ec2-user/anaconda3/envs/amazonei_mxnet_p36/lib/python3.6/site-packages (from requests>=2.5.0->cdsapi) (2.0.9)\n",
      "Requirement already satisfied: idna<4,>=2.5 in /home/ec2-user/anaconda3/envs/amazonei_mxnet_p36/lib/python3.6/site-packages (from requests>=2.5.0->cdsapi) (3.1)\n",
      "Requirement already satisfied: urllib3<1.27,>=1.21.1 in /home/ec2-user/anaconda3/envs/amazonei_mxnet_p36/lib/python3.6/site-packages (from requests>=2.5.0->cdsapi) (1.26.7)\n",
      "Requirement already satisfied: six in /home/ec2-user/anaconda3/envs/amazonei_mxnet_p36/lib/python3.6/site-packages (from argon2-cffi->pykeepass) (1.15.0)\n",
      "Requirement already satisfied: cffi>=1.0.0 in /home/ec2-user/anaconda3/envs/amazonei_mxnet_p36/lib/python3.6/site-packages (from argon2-cffi->pykeepass) (1.14.5)\n",
      "Requirement already satisfied: pycparser in /home/ec2-user/anaconda3/envs/amazonei_mxnet_p36/lib/python3.6/site-packages (from cffi>=1.0.0->argon2-cffi->pykeepass) (2.20)\n",
      "Note: you may need to restart the kernel to use updated packages.\n"
     ]
    }
   ],
   "source": [
    "pip install pykeepass cdsapi"
   ]
  },
  {
   "cell_type": "code",
   "execution_count": 3,
   "metadata": {},
   "outputs": [],
   "source": [
    "# lib\n",
    "import pandas as pd\n",
    "import numpy as np\n",
    "import logging\n",
    "import os\n",
    "# from datetime import datetime\n",
    "from datetime import date\n",
    "from dateutil.relativedelta import relativedelta\n",
    "\n",
    "import getpass                   # to get password input directly from user\n",
    "from pykeepass import PyKeePass  # credential\n",
    "import boto3                     # save in S3\n",
    "import cdsapi                    # Era5 Api\n",
    "import urllib3                   # to diseable some warnings: https://urllib3.readthedocs.io/en/latest/advanced-usage.html#ssl-warnings\n",
    "import certifi\n",
    "from time import time"
   ]
  },
  {
   "cell_type": "code",
   "execution_count": 4,
   "metadata": {},
   "outputs": [
    {
     "name": "stdout",
     "output_type": "stream",
     "text": [
      "Provide password to get access to Keepass file:\n"
     ]
    },
    {
     "name": "stdin",
     "output_type": "stream",
     "text": [
      " ·········\n"
     ]
    },
    {
     "name": "stderr",
     "output_type": "stream",
     "text": [
      " 2022-01-10 08:32:08,480 -  INFO -  Keepass data loaded\n"
     ]
    }
   ],
   "source": [
    "# logger set-up\n",
    "logging.basicConfig(format=' %(asctime)s -  %(levelname)s -  %(message)s', \n",
    "                    handlers = [logging.StreamHandler()])\n",
    "logging.getLogger().setLevel(logging.INFO)\n",
    "\n",
    "\n",
    "# Credential\n",
    "KEEPASS_FILE = '/home/ec2-user/SageMaker/config/RDL.kdbx'\n",
    "print('Provide password to get access to Keepass file:')\n",
    "password = getpass.getpass()\n",
    "\n",
    "try:  \n",
    "    kp = PyKeePass(KEEPASS_FILE, password=password)\n",
    "    logging.info('Keepass data loaded')\n",
    "except:\n",
    "    logging.exception('Cannot open the keepass file:')"
   ]
  },
  {
   "cell_type": "code",
   "execution_count": 5,
   "metadata": {},
   "outputs": [],
   "source": [
    "# ERA5 API connection\n",
    "\n",
    "# to avoid warning...but does not seems to work \n",
    "http = urllib3.PoolManager(     \n",
    "     cert_reqs='CERT_REQUIRED',\n",
    "     ca_certs=certifi.where())\n",
    "urllib3.disable_warnings()\n",
    "\n",
    "# Import cdsapi and create a Client instance\n",
    "credential = kp.find_entries(title='Era5', first=True)\n",
    "c = cdsapi.Client(key=credential.password, \n",
    "                  url=credential.url)"
   ]
  },
  {
   "cell_type": "markdown",
   "metadata": {},
   "source": [
    "## 1 Data extraction"
   ]
  },
  {
   "cell_type": "code",
   "execution_count": 6,
   "metadata": {},
   "outputs": [
    {
     "name": "stderr",
     "output_type": "stream",
     "text": [
      " 2022-01-10 08:32:08,930 -  INFO -  ascii passed initial chaos probing. Mean measured chaos is 0.000000 %\n",
      " 2022-01-10 08:32:08,932 -  INFO -  ascii should target any language(s) of ['Latin Based']\n",
      " 2022-01-10 08:32:08,941 -  INFO -  We detected language [('English', 1.0), ('Indonesian', 1.0), ('Simple English', 1.0)] using ascii\n",
      " 2022-01-10 08:32:08,942 -  INFO -  ascii is most likely the one. Stopping the process.\n",
      " 2022-01-10 08:32:08,961 -  INFO -  ascii passed initial chaos probing. Mean measured chaos is 0.000000 %\n",
      " 2022-01-10 08:32:08,962 -  INFO -  ascii should target any language(s) of ['Latin Based']\n",
      " 2022-01-10 08:32:08,965 -  INFO -  We detected language [('German', 0.8333), ('Hungarian', 0.8333), ('Slovak', 0.8333), ('English', 0.75), ('Dutch', 0.75), ('Italian', 0.75), ('Swedish', 0.75), ('Norwegian', 0.75), ('Czech', 0.75), ('Indonesian', 0.75), ('Danish', 0.75), ('Polish', 0.6667), ('Finnish', 0.6667), ('Slovene', 0.6667), ('Turkish', 0.5833), ('Vietnamese', 0.5), ('Lithuanian', 0.5)] using ascii\n",
      " 2022-01-10 08:32:08,967 -  INFO -  ascii is most likely the one. Stopping the process.\n",
      " 2022-01-10 08:32:08,992 -  INFO -  ascii passed initial chaos probing. Mean measured chaos is 0.000000 %\n",
      " 2022-01-10 08:32:08,993 -  INFO -  ascii should target any language(s) of ['Latin Based']\n",
      " 2022-01-10 08:32:08,996 -  INFO -  We detected language [('English', 1.0), ('Indonesian', 1.0), ('Simple English', 1.0)] using ascii\n",
      " 2022-01-10 08:32:08,997 -  INFO -  ascii is most likely the one. Stopping the process.\n"
     ]
    },
    {
     "data": {
      "text/html": [
       "<div>\n",
       "<style scoped>\n",
       "    .dataframe tbody tr th:only-of-type {\n",
       "        vertical-align: middle;\n",
       "    }\n",
       "\n",
       "    .dataframe tbody tr th {\n",
       "        vertical-align: top;\n",
       "    }\n",
       "\n",
       "    .dataframe thead th {\n",
       "        text-align: right;\n",
       "    }\n",
       "</style>\n",
       "<table border=\"1\" class=\"dataframe\">\n",
       "  <thead>\n",
       "    <tr style=\"text-align: right;\">\n",
       "      <th></th>\n",
       "      <th>north</th>\n",
       "      <th>west</th>\n",
       "      <th>south</th>\n",
       "      <th>east</th>\n",
       "    </tr>\n",
       "    <tr>\n",
       "      <th>area_name</th>\n",
       "      <th></th>\n",
       "      <th></th>\n",
       "      <th></th>\n",
       "      <th></th>\n",
       "    </tr>\n",
       "  </thead>\n",
       "  <tbody>\n",
       "    <tr>\n",
       "      <th>france</th>\n",
       "      <td>51.00</td>\n",
       "      <td>-4.5</td>\n",
       "      <td>42.50</td>\n",
       "      <td>8.00</td>\n",
       "    </tr>\n",
       "    <tr>\n",
       "      <th>corsica</th>\n",
       "      <td>43.25</td>\n",
       "      <td>8.5</td>\n",
       "      <td>41.25</td>\n",
       "      <td>9.75</td>\n",
       "    </tr>\n",
       "    <tr>\n",
       "      <th>guadeloupe</th>\n",
       "      <td>16.75</td>\n",
       "      <td>-62.0</td>\n",
       "      <td>15.75</td>\n",
       "      <td>-60.75</td>\n",
       "    </tr>\n",
       "    <tr>\n",
       "      <th>reunion</th>\n",
       "      <td>-20.75</td>\n",
       "      <td>55.0</td>\n",
       "      <td>-21.50</td>\n",
       "      <td>56.00</td>\n",
       "    </tr>\n",
       "  </tbody>\n",
       "</table>\n",
       "</div>"
      ],
      "text/plain": [
       "            north  west  south   east\n",
       "area_name                            \n",
       "france      51.00  -4.5  42.50   8.00\n",
       "corsica     43.25   8.5  41.25   9.75\n",
       "guadeloupe  16.75 -62.0  15.75 -60.75\n",
       "reunion    -20.75  55.0 -21.50  56.00"
      ]
     },
     "execution_count": 6,
     "metadata": {},
     "output_type": "execute_result"
    }
   ],
   "source": [
    "# read boxes to extracts\n",
    "boxes_df = pd.read_csv('s3://edfred-edfre-sbx-eu-west-1-solar-radiation-data/ERA5/config/area_boxes_boundaries.csv', index_col='area_name')\n",
    "boxes_df.head()"
   ]
  },
  {
   "cell_type": "code",
   "execution_count": 7,
   "metadata": {},
   "outputs": [
    {
     "data": {
      "text/plain": [
       "[51.0, -4.5, 42.5, 8.0]"
      ]
     },
     "execution_count": 7,
     "metadata": {},
     "output_type": "execute_result"
    }
   ],
   "source": [
    "# example\n",
    "boxes_df.loc['france',:].to_list()"
   ]
  },
  {
   "cell_type": "code",
   "execution_count": null,
   "metadata": {
    "scrolled": true
   },
   "outputs": [
    {
     "name": "stderr",
     "output_type": "stream",
     "text": [
      " 2022-01-10 08:32:09,197 -  INFO -  Request for france 2021-10\n",
      " 2022-01-10 08:32:09,276 -  INFO -  Welcome to the CDS\n",
      " 2022-01-10 08:32:09,277 -  INFO -  Sending request to https://cds.climate.copernicus.eu/api/v2/resources/reanalysis-era5-single-levels\n",
      " 2022-01-10 08:32:09,331 -  INFO -  Request is completed\n",
      " 2022-01-10 08:32:09,332 -  INFO -  Downloading https://download-0005.copernicus-climate.eu/cache-compute-0005/cache/data6/adaptor.mars.internal-1641575420.9584136-21802-2-d227032c-e05b-40fa-80c7-b2d9f0786fa5.nc to ERA5_france_2021-10.nc (25.3M)\n",
      " 2022-01-10 08:32:11,537 -  INFO -  Download rate 11.5M/s\n",
      " 2022-01-10 08:32:11,560 -  INFO -  2021:10 downloaded in 0.04 minutes\n",
      " 2022-01-10 08:32:12,241 -  INFO -  Request for france 2021-11\n",
      " 2022-01-10 08:32:12,263 -  INFO -  Welcome to the CDS\n",
      " 2022-01-10 08:32:12,264 -  INFO -  Sending request to https://cds.climate.copernicus.eu/api/v2/resources/reanalysis-era5-single-levels\n",
      " 2022-01-10 08:32:12,306 -  INFO -  Downloading https://download-0007.copernicus-climate.eu/cache-compute-0007/cache/data4/adaptor.mars.internal-1641803324.16488-24716-2-629cb331-4034-4b82-b207-5940fb32d68a.nc to ERA5_france_2021-11.nc (24.5M)\n",
      " 2022-01-10 08:32:14,185 -  INFO -  Download rate 13.1M/s\n",
      " 2022-01-10 08:32:14,218 -  INFO -  2021:11 downloaded in 0.03 minutes\n",
      " 2022-01-10 08:32:14,954 -  INFO -  Request for france 2021-12\n",
      " 2022-01-10 08:32:14,972 -  INFO -  Welcome to the CDS\n",
      " 2022-01-10 08:32:14,972 -  INFO -  Sending request to https://cds.climate.copernicus.eu/api/v2/resources/reanalysis-era5-single-levels\n",
      " 2022-01-10 08:32:15,005 -  INFO -  Request is queued\n",
      " 2022-01-10 08:35:06,374 -  INFO -  Request is completed\n",
      " 2022-01-10 08:35:06,375 -  INFO -  Downloading https://download-0012.copernicus-climate.eu/cache-compute-0012/cache/data7/adaptor.mars.internal-1641803664.1561372-23016-9-770c67c2-9186-49d7-ba19-9a5a2c607077.nc to ERA5_france_2021-12.nc (50.7M)\n",
      " 2022-01-10 08:35:10,420 -  INFO -  Download rate 12.5M/s\n",
      " 2022-01-10 08:35:10,442 -  INFO -  2021:12 downloaded in 2.92 minutes\n",
      " 2022-01-10 08:35:12,112 -  INFO -  Request for corsica 2021-10\n",
      " 2022-01-10 08:35:12,135 -  INFO -  Welcome to the CDS\n",
      " 2022-01-10 08:35:12,137 -  INFO -  Sending request to https://cds.climate.copernicus.eu/api/v2/resources/reanalysis-era5-single-levels\n",
      " 2022-01-10 08:35:12,162 -  INFO -  Request is queued\n",
      " 2022-01-10 08:35:25,474 -  INFO -  Request is running\n",
      " 2022-01-10 08:41:30,304 -  INFO -  Request is completed\n",
      " 2022-01-10 08:41:30,305 -  INFO -  Downloading https://download-0014.copernicus-climate.eu/cache-compute-0014/cache/data0/adaptor.mars.internal-1641804005.4939795-26201-9-7fac1e04-a376-4f80-a919-31780f04774f.nc to ERA5_corsica_2021-10.nc (791K)\n",
      " 2022-01-10 08:41:30,494 -  INFO -  Download rate 4.3M/s\n",
      " 2022-01-10 08:41:30,523 -  INFO -  2021:10 downloaded in 6.31 minutes\n",
      " 2022-01-10 08:41:30,799 -  INFO -  Request for corsica 2021-11\n",
      " 2022-01-10 08:41:30,817 -  INFO -  Welcome to the CDS\n",
      " 2022-01-10 08:41:30,818 -  INFO -  Sending request to https://cds.climate.copernicus.eu/api/v2/resources/reanalysis-era5-single-levels\n",
      " 2022-01-10 08:41:30,842 -  INFO -  Request is queued\n",
      " 2022-01-10 08:41:33,385 -  INFO -  Request is running\n",
      " 2022-01-10 08:47:49,069 -  INFO -  Request is completed\n",
      " 2022-01-10 08:47:49,070 -  INFO -  Downloading https://download-0001.copernicus-climate.eu/cache-compute-0001/cache/data8/adaptor.mars.internal-1641804361.5479817-32009-5-458adb24-f94d-40d6-a90d-20a49a813b2a.nc to ERA5_corsica_2021-11.nc (765.6K)\n",
      " 2022-01-10 08:47:49,280 -  INFO -  Download rate 3.6M/s\n",
      " 2022-01-10 08:47:49,317 -  INFO -  2021:11 downloaded in 6.31 minutes\n",
      " 2022-01-10 08:47:49,655 -  INFO -  Request for corsica 2021-12\n",
      " 2022-01-10 08:47:49,686 -  INFO -  Welcome to the CDS\n",
      " 2022-01-10 08:47:49,686 -  INFO -  Sending request to https://cds.climate.copernicus.eu/api/v2/resources/reanalysis-era5-single-levels\n",
      " 2022-01-10 08:47:49,725 -  INFO -  Request is queued\n",
      " 2022-01-10 08:47:50,760 -  INFO -  Request is running\n",
      " 2022-01-10 08:54:09,120 -  INFO -  Request is completed\n",
      " 2022-01-10 08:54:09,121 -  INFO -  Downloading https://download-0002.copernicus-climate.eu/cache-compute-0002/cache/data7/adaptor.mars.internal-1641804739.5782845-23418-14-b9af732b-6025-435d-98ee-f72b946776cb.nc to ERA5_corsica_2021-12.nc (1.5M)\n",
      " 2022-01-10 08:54:09,372 -  INFO -  Download rate 6.2M/s\n",
      " 2022-01-10 08:54:09,398 -  INFO -  2021:12 downloaded in 6.33 minutes\n",
      " 2022-01-10 08:54:09,678 -  INFO -  Request for guadeloupe 2021-10\n",
      " 2022-01-10 08:54:09,696 -  INFO -  Welcome to the CDS\n",
      " 2022-01-10 08:54:09,697 -  INFO -  Sending request to https://cds.climate.copernicus.eu/api/v2/resources/reanalysis-era5-single-levels\n",
      " 2022-01-10 08:54:09,724 -  INFO -  Request is queued\n",
      " 2022-01-10 08:54:10,747 -  INFO -  Request is running\n",
      " 2022-01-10 08:58:27,721 -  INFO -  Request is completed\n",
      " 2022-01-10 08:58:27,722 -  INFO -  Downloading https://download-0015.copernicus-climate.eu/cache-compute-0015/cache/data1/adaptor.mars.internal-1641805062.8778305-14782-6-b57e564e-5b91-4408-924e-b6f604ebcf07.nc to ERA5_guadeloupe_2021-10.nc (442.2K)\n",
      " 2022-01-10 08:58:27,887 -  INFO -  Download rate 2.6M/s\n",
      " 2022-01-10 08:58:27,918 -  INFO -  2021:10 downloaded in 4.30 minutes\n",
      " 2022-01-10 08:58:28,338 -  INFO -  Request for guadeloupe 2021-11\n",
      " 2022-01-10 08:58:28,357 -  INFO -  Welcome to the CDS\n",
      " 2022-01-10 08:58:28,357 -  INFO -  Sending request to https://cds.climate.copernicus.eu/api/v2/resources/reanalysis-era5-single-levels\n",
      " 2022-01-10 08:58:28,389 -  INFO -  Request is queued\n",
      " 2022-01-10 08:58:29,412 -  INFO -  Request is running\n",
      " 2022-01-10 09:02:46,421 -  INFO -  Request is completed\n",
      " 2022-01-10 09:02:46,422 -  INFO -  Downloading https://download-0003.copernicus-climate.eu/cache-compute-0003/cache/data0/adaptor.mars.internal-1641805328.0268443-12353-9-ab349ba9-496d-4334-8760-bcbb0efceb96.nc to ERA5_guadeloupe_2021-11.nc (428.1K)\n",
      " 2022-01-10 09:02:46,611 -  INFO -  Download rate 2.3M/s\n",
      " 2022-01-10 09:02:46,636 -  INFO -  2021:11 downloaded in 4.30 minutes\n",
      " 2022-01-10 09:02:46,861 -  INFO -  Request for guadeloupe 2021-12\n",
      " 2022-01-10 09:02:46,880 -  INFO -  Welcome to the CDS\n",
      " 2022-01-10 09:02:46,881 -  INFO -  Sending request to https://cds.climate.copernicus.eu/api/v2/resources/reanalysis-era5-single-levels\n",
      " 2022-01-10 09:02:46,910 -  INFO -  Request is queued\n",
      " 2022-01-10 09:02:49,459 -  INFO -  Request is running\n",
      " 2022-01-10 09:07:04,936 -  INFO -  Request is completed\n",
      " 2022-01-10 09:07:04,937 -  INFO -  Downloading https://download-0007.copernicus-climate.eu/cache-compute-0007/cache/data3/adaptor.mars.internal-1641805580.98554-6769-12-089f71c5-1b53-4084-bde1-5d9db7a35961.nc to ERA5_guadeloupe_2021-12.nc (878.3K)\n",
      " 2022-01-10 09:07:05,227 -  INFO -  Download rate 3M/s\n",
      " 2022-01-10 09:07:05,252 -  INFO -  2021:12 downloaded in 4.31 minutes\n",
      " 2022-01-10 09:07:05,471 -  INFO -  Request for reunion 2021-10\n",
      " 2022-01-10 09:07:05,500 -  INFO -  Welcome to the CDS\n",
      " 2022-01-10 09:07:05,501 -  INFO -  Sending request to https://cds.climate.copernicus.eu/api/v2/resources/reanalysis-era5-single-levels\n",
      " 2022-01-10 09:07:05,532 -  INFO -  Request is queued\n",
      " 2022-01-10 09:07:08,079 -  INFO -  Request is running\n",
      " 2022-01-10 09:13:23,745 -  INFO -  Request is completed\n",
      " 2022-01-10 09:13:23,746 -  INFO -  Downloading https://download-0002.copernicus-climate.eu/cache-compute-0002/cache/data8/adaptor.mars.internal-1641805908.7471266-32358-17-c7372fed-7922-45ed-ae0e-cc6ef93c3b93.nc to ERA5_reunion_2021-10.nc (296.9K)\n",
      " 2022-01-10 09:13:23,924 -  INFO -  Download rate 1.6M/s\n",
      " 2022-01-10 09:13:23,949 -  INFO -  2021:10 downloaded in 6.31 minutes\n",
      " 2022-01-10 09:13:24,138 -  INFO -  Request for reunion 2021-11\n",
      " 2022-01-10 09:13:24,156 -  INFO -  Welcome to the CDS\n",
      " 2022-01-10 09:13:24,157 -  INFO -  Sending request to https://cds.climate.copernicus.eu/api/v2/resources/reanalysis-era5-single-levels\n",
      " 2022-01-10 09:13:24,187 -  INFO -  Request is queued\n",
      " 2022-01-10 09:13:25,209 -  INFO -  Request is running\n",
      " 2022-01-10 09:17:42,429 -  INFO -  Request is completed\n",
      " 2022-01-10 09:17:42,430 -  INFO -  Downloading https://download-0006.copernicus-climate.eu/cache-compute-0006/cache/data5/adaptor.mars.internal-1641806205.7600367-28223-9-9f78bd37-2f9f-480d-aca1-ad9cc4279bf2.nc to ERA5_reunion_2021-11.nc (287.4K)\n",
      " 2022-01-10 09:17:42,582 -  INFO -  Download rate 1.9M/s\n",
      " 2022-01-10 09:17:42,614 -  INFO -  2021:11 downloaded in 4.31 minutes\n",
      " 2022-01-10 09:17:42,854 -  INFO -  Request for reunion 2021-12\n",
      " 2022-01-10 09:17:42,872 -  INFO -  Welcome to the CDS\n",
      " 2022-01-10 09:17:42,873 -  INFO -  Sending request to https://cds.climate.copernicus.eu/api/v2/resources/reanalysis-era5-single-levels\n",
      " 2022-01-10 09:17:42,906 -  INFO -  Request is queued\n",
      " 2022-01-10 09:17:43,929 -  INFO -  Request is running\n"
     ]
    }
   ],
   "source": [
    "# Monthly loops over the 3 last months:\n",
    "\n",
    "# param\n",
    "# area = boxes_df.index[0]\n",
    "areas = list(boxes_df.index)\n",
    "\n",
    "# old manual set-up\n",
    "# start_date_s = '2021-03'\n",
    "# end_date_s = '2021-04'  # not included\n",
    "\n",
    "# new automatic set-up\n",
    "start_date_s = date.today() + relativedelta(months=-3)\n",
    "end_date_s = date.today()   # not included: will take the last month\n",
    "\n",
    "variables = ['100m_u_component_of_wind', '100m_v_component_of_wind', '10m_u_component_of_wind',\n",
    "            '10m_v_component_of_wind', '2m_dewpoint_temperature', '2m_temperature', 'snowfall', \n",
    "             'surface_pressure', 'mean_surface_downward_short_wave_radiation_flux', 'total_precipitation',]\n",
    "bucket_name = 'edfred-edfre-sbx-eu-west-1-solar-radiation-data'\n",
    "\n",
    "date_range = pd.date_range(start_date_s, end_date_s, freq=\"M\" )\n",
    "\n",
    "# build dic to extract {year : [months]}\n",
    "date_to_extract = {}\n",
    "for elem in date_range:\n",
    "    year = str(elem.year)\n",
    "    month = str(elem.month)\n",
    "    if len(month)==1:\n",
    "        month = '0' + month\n",
    "    if not (year in date_to_extract):\n",
    "        date_to_extract[year] = [month]\n",
    "    else:\n",
    "        date_to_extract[year].append(month)\n",
    "\n",
    "\n",
    "for area in areas:\n",
    "    for year, months in date_to_extract.items():\n",
    "        for month in months:\n",
    "\n",
    "            logging.info(\"Request for {} {}-{}\".format(area, year, month))\n",
    "            outfile_name_nc = \"ERA5_{}_{}-{}.nc\".format(area, year, month) \n",
    "\n",
    "            # S3_destination = os.path.join('ERA5','netcdf', area, outfile_name_nc)\n",
    "\n",
    "            t0 = time()\n",
    "            c.retrieve(\n",
    "            'reanalysis-era5-single-levels',\n",
    "            {\n",
    "                'product_type':'reanalysis',\n",
    "                'format':'netcdf',\n",
    "                \"area\": boxes_df.loc[area,:].to_list(),\n",
    "                'variable':variables,\n",
    "                'year':[year],\n",
    "                'month':[month],\n",
    "                'day':[\n",
    "                    '01','02','03',\n",
    "                    '04','05','06',\n",
    "                    '07','08','09',\n",
    "                    '10','11','12',\n",
    "                    '13','14','15',\n",
    "                    '16','17','18',\n",
    "                    '19','20','21',\n",
    "                    '22','23','24',\n",
    "                    '25','26','27',\n",
    "                    '28','29','30',\n",
    "                    '31',\n",
    "                ],\n",
    "                'time':[\n",
    "                    '00:00','01:00','02:00',\n",
    "                    '03:00','04:00','05:00',\n",
    "                    '06:00','07:00','08:00',\n",
    "                    '09:00','10:00','11:00',\n",
    "                    '12:00','13:00','14:00',\n",
    "                    '15:00','16:00','17:00',\n",
    "                    '18:00','19:00','20:00',\n",
    "                    '21:00','22:00','23:00',\n",
    "                ]\n",
    "            },\n",
    "\n",
    "            outfile_name_nc\n",
    "            )\n",
    "\n",
    "            logging.info(\"{}:{} downloaded in {:.2f} minutes\".format(year, month, (time() - t0)/60))\n",
    "\n",
    "            # move result file to S3\n",
    "            S3_destination = f'ERA5/netcdf/{area}/{outfile_name_nc}'\n",
    "            boto3.Session().resource('s3').Bucket(bucket_name).Object(S3_destination).upload_file(outfile_name_nc)\n",
    "            os.remove(outfile_name_nc)"
   ]
  },
  {
   "cell_type": "code",
   "execution_count": null,
   "metadata": {},
   "outputs": [],
   "source": []
  }
 ],
 "metadata": {
  "kernelspec": {
   "display_name": "conda_amazonei_mxnet_p36",
   "language": "python",
   "name": "conda_amazonei_mxnet_p36"
  },
  "language_info": {
   "codemirror_mode": {
    "name": "ipython",
    "version": 3
   },
   "file_extension": ".py",
   "mimetype": "text/x-python",
   "name": "python",
   "nbconvert_exporter": "python",
   "pygments_lexer": "ipython3",
   "version": "3.6.13"
  }
 },
 "nbformat": 4,
 "nbformat_minor": 4
}
