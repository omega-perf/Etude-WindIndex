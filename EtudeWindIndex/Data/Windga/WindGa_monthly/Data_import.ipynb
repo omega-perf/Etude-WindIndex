{
 "cells": [
  {
   "cell_type": "markdown",
   "id": "4a2cd56b",
   "metadata": {},
   "source": [
    "# Imports"
   ]
  },
  {
   "cell_type": "code",
   "execution_count": 1,
   "id": "21e57d20",
   "metadata": {},
   "outputs": [],
   "source": [
    "import pandas as pd\n",
    "from pathlib import Path\n",
    "import numpy as np"
   ]
  },
  {
   "cell_type": "markdown",
   "id": "189067cb",
   "metadata": {},
   "source": [
    "# Création du dataframe Windga"
   ]
  },
  {
   "cell_type": "code",
   "execution_count": 2,
   "id": "f2874879",
   "metadata": {},
   "outputs": [],
   "source": [
    "WindGa_Prod_path = Path('/home/ec2-user/SageMaker/EtudeWindIndex/Data/WindGa_monthly/Raw/WINDGA_V_RPT_GA_CALCUL_PROD_PERF.csv')\n",
    "WindGa_Sol_path = Path('/home/ec2-user/SageMaker/EtudeWindIndex/Data/WindGa_monthly/Raw/WINDGA_GA Sol.csv')"
   ]
  },
  {
   "cell_type": "code",
   "execution_count": 3,
   "id": "29fc0c36",
   "metadata": {},
   "outputs": [],
   "source": [
    "#Lecture de WINDGA Prod\n",
    "ga_prod = pd.read_csv(WindGa_Prod_path, sep=';', low_memory=False)\n",
    "\n",
    "#On ne garde que les données qui nous intéressent\n",
    "selection = [\n",
    "             'Nom centrale', \n",
    "             'PERIODE', \n",
    "             'MOIS', \n",
    "             'ANNEE', \n",
    "             'Dispo contrat realisee',\n",
    "             'Dispo technique realisee', \n",
    "             'Dispo energetique realisee',\n",
    "             'Production realisee',\n",
    "             'Code centrale', \n",
    "             ]\n",
    "\n",
    "#On ne garde que les éoliennes 'E'\n",
    "#Ajouter 'S' pour le solaire\n",
    "mask = ga_prod[\"Code centrale\"].str.startswith('E', na=False) \n",
    "ga_prod_f = ga_prod.loc[mask, selection]"
   ]
  },
  {
   "cell_type": "code",
   "execution_count": 4,
   "id": "f1e9fd2e",
   "metadata": {},
   "outputs": [],
   "source": [
    "#Lecture de WINDGA Sol\n",
    "ga_sol = pd.read_csv(WindGa_Sol_path, sep=';', low_memory=False)\n",
    "\n",
    "#On ne garde que les données qui servent à retrouver les code projet\n",
    "selection = [\n",
    "       'Code Centrale',  \n",
    "       'Code PI',\n",
    "       ]\n",
    "\n",
    "#On ne garde que les éoliennes 'E'\n",
    "mask = ga_sol[\"Code Centrale\"].str.startswith('E', na=False)\n",
    "ga_sol_f = ga_sol.loc[mask, selection]"
   ]
  },
  {
   "cell_type": "code",
   "execution_count": 5,
   "id": "4bfa22d3",
   "metadata": {},
   "outputs": [],
   "source": [
    "#On fusionne les deux fichiers WINDGA\n",
    "windga = pd.merge(ga_prod_f, ga_sol_f,\n",
    "                     left_on='Code centrale',\n",
    "                     right_on='Code Centrale'\n",
    "                     )\n",
    "\n",
    "#On supprime les collonnes inutiles et rennome la colonne des codes projet\n",
    "windga.drop(['Code centrale', 'Code Centrale'], axis=1, inplace=True)\n",
    "windga.rename(columns={\"Code PI\": \"project_code\"}, inplace= True)\n",
    "\n",
    "#On ajoute une colonne de date\n",
    "windga['date'] = pd.to_datetime(windga['PERIODE'], format='%d/%m/%Y')"
   ]
  },
  {
   "cell_type": "code",
   "execution_count": 6,
   "id": "2b67faaf",
   "metadata": {},
   "outputs": [
    {
     "data": {
      "text/html": [
       "<div>\n",
       "<style scoped>\n",
       "    .dataframe tbody tr th:only-of-type {\n",
       "        vertical-align: middle;\n",
       "    }\n",
       "\n",
       "    .dataframe tbody tr th {\n",
       "        vertical-align: top;\n",
       "    }\n",
       "\n",
       "    .dataframe thead th {\n",
       "        text-align: right;\n",
       "    }\n",
       "</style>\n",
       "<table border=\"1\" class=\"dataframe\">\n",
       "  <thead>\n",
       "    <tr style=\"text-align: right;\">\n",
       "      <th></th>\n",
       "      <th>Nom centrale</th>\n",
       "      <th>PERIODE</th>\n",
       "      <th>MOIS</th>\n",
       "      <th>ANNEE</th>\n",
       "      <th>Dispo contrat realisee</th>\n",
       "      <th>Dispo technique realisee</th>\n",
       "      <th>Dispo energetique realisee</th>\n",
       "      <th>Production realisee</th>\n",
       "      <th>project_code</th>\n",
       "      <th>date</th>\n",
       "    </tr>\n",
       "  </thead>\n",
       "  <tbody>\n",
       "    <tr>\n",
       "      <th>0</th>\n",
       "      <td>Amelecourt</td>\n",
       "      <td>01/11/2009</td>\n",
       "      <td>11</td>\n",
       "      <td>2009</td>\n",
       "      <td>0,9576</td>\n",
       "      <td>NaN</td>\n",
       "      <td>NaN</td>\n",
       "      <td>3332664</td>\n",
       "      <td>AMEL</td>\n",
       "      <td>2009-11-01</td>\n",
       "    </tr>\n",
       "    <tr>\n",
       "      <th>1</th>\n",
       "      <td>Amelecourt</td>\n",
       "      <td>01/10/2016</td>\n",
       "      <td>10</td>\n",
       "      <td>2016</td>\n",
       "      <td>0,97175</td>\n",
       "      <td>0,91491</td>\n",
       "      <td>0,89533</td>\n",
       "      <td>1435415</td>\n",
       "      <td>AMEL</td>\n",
       "      <td>2016-10-01</td>\n",
       "    </tr>\n",
       "    <tr>\n",
       "      <th>2</th>\n",
       "      <td>Amelecourt</td>\n",
       "      <td>01/04/2012</td>\n",
       "      <td>4</td>\n",
       "      <td>2012</td>\n",
       "      <td>0,97</td>\n",
       "      <td>NaN</td>\n",
       "      <td>NaN</td>\n",
       "      <td>2025488</td>\n",
       "      <td>AMEL</td>\n",
       "      <td>2012-04-01</td>\n",
       "    </tr>\n",
       "    <tr>\n",
       "      <th>3</th>\n",
       "      <td>Amelecourt</td>\n",
       "      <td>01/03/2019</td>\n",
       "      <td>3</td>\n",
       "      <td>2019</td>\n",
       "      <td>0,98926</td>\n",
       "      <td>0,9882</td>\n",
       "      <td>0,98794</td>\n",
       "      <td>3913817</td>\n",
       "      <td>AMEL</td>\n",
       "      <td>2019-03-01</td>\n",
       "    </tr>\n",
       "    <tr>\n",
       "      <th>4</th>\n",
       "      <td>Amelecourt</td>\n",
       "      <td>01/09/2021</td>\n",
       "      <td>9</td>\n",
       "      <td>2021</td>\n",
       "      <td>0,97811</td>\n",
       "      <td>0,96088</td>\n",
       "      <td>0,95953</td>\n",
       "      <td>1019362</td>\n",
       "      <td>AMEL</td>\n",
       "      <td>2021-09-01</td>\n",
       "    </tr>\n",
       "  </tbody>\n",
       "</table>\n",
       "</div>"
      ],
      "text/plain": [
       "  Nom centrale     PERIODE  MOIS  ANNEE Dispo contrat realisee  \\\n",
       "0   Amelecourt  01/11/2009    11   2009                 0,9576   \n",
       "1   Amelecourt  01/10/2016    10   2016                0,97175   \n",
       "2   Amelecourt  01/04/2012     4   2012                   0,97   \n",
       "3   Amelecourt  01/03/2019     3   2019                0,98926   \n",
       "4   Amelecourt  01/09/2021     9   2021                0,97811   \n",
       "\n",
       "  Dispo technique realisee Dispo energetique realisee Production realisee  \\\n",
       "0                      NaN                        NaN             3332664   \n",
       "1                  0,91491                    0,89533             1435415   \n",
       "2                      NaN                        NaN             2025488   \n",
       "3                   0,9882                    0,98794             3913817   \n",
       "4                  0,96088                    0,95953             1019362   \n",
       "\n",
       "  project_code       date  \n",
       "0         AMEL 2009-11-01  \n",
       "1         AMEL 2016-10-01  \n",
       "2         AMEL 2012-04-01  \n",
       "3         AMEL 2019-03-01  \n",
       "4         AMEL 2021-09-01  "
      ]
     },
     "execution_count": 6,
     "metadata": {},
     "output_type": "execute_result"
    }
   ],
   "source": [
    "#Visualisation de WindGa\n",
    "windga.head()"
   ]
  },
  {
   "cell_type": "code",
   "execution_count": 7,
   "id": "a641978e",
   "metadata": {},
   "outputs": [],
   "source": [
    "Windga_raw_path = Path('/home/ec2-user/SageMaker/EtudeWindIndex/Data/WindGa_monthly/Raw/Windga_raw.csv')\n",
    "    \n",
    "#Sauvegarde\n",
    "windga.to_csv(Windga_raw_path, index=False, sep=';')"
   ]
  },
  {
   "cell_type": "markdown",
   "id": "b83c6b56",
   "metadata": {},
   "source": [
    "# Nettoyage des données"
   ]
  },
  {
   "cell_type": "code",
   "execution_count": 8,
   "id": "e881c4b4",
   "metadata": {},
   "outputs": [],
   "source": [
    "#On converti en nombre les valeurs de WindGa\n",
    "windga['Production realisee'] = windga['Production realisee'].str.replace(',','.')\n",
    "windga['Production realisee'] = windga['Production realisee'].astype(float)\n",
    "\n",
    "windga['Dispo energetique realisee'] = windga['Dispo energetique realisee'].str.replace(',','.')\n",
    "windga['Dispo energetique realisee'] = windga['Dispo energetique realisee'].astype(float)\n",
    "\n",
    "windga['Dispo technique realisee'] = windga['Dispo technique realisee'] .str.replace(',','.')\n",
    "windga['Dispo technique realisee'] = windga['Dispo technique realisee'] .astype(float)\n",
    "\n",
    "windga['Dispo contrat realisee'] = windga['Dispo contrat realisee'].str.replace(',','.')\n",
    "windga['Dispo contrat realisee'] = windga['Dispo contrat realisee'].astype(float)"
   ]
  },
  {
   "cell_type": "code",
   "execution_count": 9,
   "id": "90364187",
   "metadata": {},
   "outputs": [],
   "source": [
    "#On enlève deux centrales qui ne nous appartiennent plus\n",
    "mask = windga['Nom centrale'].isin(['SC - Cabreirens', 'SC - Calsigas'])\n",
    "windga = windga.loc[~mask,:]\n",
    "\n",
    "\n",
    "\n",
    "#On enlève les lignes de production nulle\n",
    "mask = windga['Production realisee'].isnull()\n",
    "windga = windga.loc[~mask,:]\n",
    "\n",
    "\n",
    "\n",
    "#On fait disparaître les valeurs impossibles\n",
    "mask = windga['Dispo energetique realisee'] > 1\n",
    "windga.loc[mask,'Dispo energetique realisee'] = np.NaN\n",
    "\n",
    "mask = windga['Dispo technique realisee'] > 1\n",
    "windga.loc[mask,'Dispo technique realisee'] = np.NaN\n",
    "\n",
    "mask = windga['Dispo contrat realisee'] > 1\n",
    "windga.loc[mask,'Dispo contrat realisee'] = np.NaN\n",
    "\n",
    "\n",
    "\n",
    "#On construit la colonne de dispo selon l'ordre :\n",
    "#Dispo consolidated = PBA_Energetique > TBA_technique > Contract\n",
    "windga['dispo_consolidated'] = windga['Dispo energetique realisee']\n",
    "\n",
    "mask = ((windga['dispo_consolidated'].isnull()) | (windga['dispo_consolidated'] == 0))\n",
    "windga.loc[mask, 'dispo_consolidated'] = windga.loc[mask, 'Dispo technique realisee']\n",
    "\n",
    "mask = (windga['dispo_consolidated'].isnull() | (windga['dispo_consolidated'] == 0)) \n",
    "windga.loc[mask, 'dispo_consolidated'] = windga.loc[mask, 'Dispo contrat realisee']"
   ]
  },
  {
   "cell_type": "code",
   "execution_count": 10,
   "id": "8a753ac0",
   "metadata": {},
   "outputs": [],
   "source": [
    "#On construit la colonne production 100% disponible\n",
    "windga['prod_100p'] = np.NaN\n",
    "mask = ~((windga['dispo_consolidated'].isnull()) | (windga['dispo_consolidated'] == 0))\n",
    "windga.loc[mask, 'prod_100p'] = windga.loc[mask, 'Production realisee'] / windga.loc[mask, 'dispo_consolidated']"
   ]
  },
  {
   "cell_type": "code",
   "execution_count": 11,
   "id": "96c9e9b6",
   "metadata": {},
   "outputs": [],
   "source": [
    "Windga_path = Path('/home/ec2-user/SageMaker/EtudeWindIndex/Data/WindGa_monthly/Clean/Windga.csv')\n",
    "    \n",
    "#Sauvegarde\n",
    "windga.to_csv(Windga_path, index=False, sep=';')"
   ]
  },
  {
   "cell_type": "code",
   "execution_count": null,
   "id": "cde5ea86",
   "metadata": {},
   "outputs": [],
   "source": []
  }
 ],
 "metadata": {
  "kernelspec": {
   "display_name": "conda_python3",
   "language": "python",
   "name": "conda_python3"
  },
  "language_info": {
   "codemirror_mode": {
    "name": "ipython",
    "version": 3
   },
   "file_extension": ".py",
   "mimetype": "text/x-python",
   "name": "python",
   "nbconvert_exporter": "python",
   "pygments_lexer": "ipython3",
   "version": "3.6.13"
  }
 },
 "nbformat": 4,
 "nbformat_minor": 5
}
