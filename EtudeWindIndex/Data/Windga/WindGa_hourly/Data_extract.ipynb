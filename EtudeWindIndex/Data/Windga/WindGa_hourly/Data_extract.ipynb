{
 "cells": [
  {
   "cell_type": "markdown",
   "id": "37ce7650",
   "metadata": {},
   "source": [
    "# Instalations"
   ]
  },
  {
   "cell_type": "code",
   "execution_count": 1,
   "id": "6fb5da82",
   "metadata": {},
   "outputs": [
    {
     "name": "stdout",
     "output_type": "stream",
     "text": [
      "Requirement already satisfied: pymysql in /home/ec2-user/anaconda3/envs/python3/lib/python3.6/site-packages (1.0.2)\n",
      "Requirement already satisfied: sqlalchemy-redshift in /home/ec2-user/anaconda3/envs/python3/lib/python3.6/site-packages (0.8.9)\n",
      "Requirement already satisfied: pykeepass in /home/ec2-user/anaconda3/envs/python3/lib/python3.6/site-packages (4.0.1)\n",
      "Requirement already satisfied: SQLAlchemy<2.0.0,>=0.9.2 in /home/ec2-user/anaconda3/envs/python3/lib/python3.6/site-packages (from sqlalchemy-redshift) (1.3.23)\n",
      "Requirement already satisfied: packaging in /home/ec2-user/anaconda3/envs/python3/lib/python3.6/site-packages (from sqlalchemy-redshift) (21.3)\n",
      "Requirement already satisfied: pycryptodomex>=3.6.2 in /home/ec2-user/anaconda3/envs/python3/lib/python3.6/site-packages (from pykeepass) (3.14.0)\n",
      "Requirement already satisfied: future in /home/ec2-user/anaconda3/envs/python3/lib/python3.6/site-packages (from pykeepass) (0.18.2)\n",
      "Requirement already satisfied: argon2-cffi in /home/ec2-user/anaconda3/envs/python3/lib/python3.6/site-packages (from pykeepass) (20.1.0)\n",
      "Requirement already satisfied: construct==2.10.54 in /home/ec2-user/anaconda3/envs/python3/lib/python3.6/site-packages (from pykeepass) (2.10.54)\n",
      "Requirement already satisfied: lxml in /home/ec2-user/anaconda3/envs/python3/lib/python3.6/site-packages (from pykeepass) (4.6.4)\n",
      "Requirement already satisfied: python-dateutil in /home/ec2-user/anaconda3/envs/python3/lib/python3.6/site-packages (from pykeepass) (2.8.1)\n",
      "Requirement already satisfied: six in /home/ec2-user/anaconda3/envs/python3/lib/python3.6/site-packages (from argon2-cffi->pykeepass) (1.15.0)\n",
      "Requirement already satisfied: cffi>=1.0.0 in /home/ec2-user/anaconda3/envs/python3/lib/python3.6/site-packages (from argon2-cffi->pykeepass) (1.14.5)\n",
      "Requirement already satisfied: pyparsing!=3.0.5,>=2.0.2 in /home/ec2-user/anaconda3/envs/python3/lib/python3.6/site-packages (from packaging->sqlalchemy-redshift) (2.4.7)\n",
      "Requirement already satisfied: pycparser in /home/ec2-user/anaconda3/envs/python3/lib/python3.6/site-packages (from cffi>=1.0.0->argon2-cffi->pykeepass) (2.20)\n",
      "Note: you may need to restart the kernel to use updated packages.\n"
     ]
    }
   ],
   "source": [
    "pip install pymysql sqlalchemy-redshift pykeepass"
   ]
  },
  {
   "cell_type": "code",
   "execution_count": 2,
   "id": "4d3bc824",
   "metadata": {},
   "outputs": [],
   "source": [
    "from pykeepass import PyKeePass\n",
    "import logging\n",
    "import getpass\n",
    "import os\n",
    "from datetime import datetime\n",
    "import pandas as pd\n",
    "import numpy as np\n",
    "import sqlalchemy\n",
    "import matplotlib.pyplot as plt\n",
    "import seaborn as sns\n",
    "import boto3 #Save in S3\n",
    "from pathlib import Path"
   ]
  },
  {
   "cell_type": "code",
   "execution_count": 3,
   "id": "fb57c0e7",
   "metadata": {},
   "outputs": [],
   "source": [
    "S3_bucket_name = 'edfred-edfre-sbx-eu-west-1-solar-radiation-data'\n",
    "S3_CSV_FOLD = r'EtudeWindIndex/Real'"
   ]
  },
  {
   "cell_type": "markdown",
   "id": "83ab893b",
   "metadata": {},
   "source": [
    "# Accès aux données Keepass"
   ]
  },
  {
   "cell_type": "code",
   "execution_count": 4,
   "id": "1753c3f3",
   "metadata": {},
   "outputs": [
    {
     "name": "stdout",
     "output_type": "stream",
     "text": [
      "Provide password to get acces to Keepass file:\n"
     ]
    },
    {
     "name": "stdin",
     "output_type": "stream",
     "text": [
      " ·········\n"
     ]
    },
    {
     "name": "stderr",
     "output_type": "stream",
     "text": [
      " 2022-02-01 13:55:37,542 -  INFO -  Keepass data loaded\n"
     ]
    }
   ],
   "source": [
    "#Get logging information stored in keepass\n",
    "Configuration_path = Path('/home/ec2-user/SageMaker/EtudeWindIndex/Data/Windga/WindGa_hourly/Configuration')\n",
    "KEEPASS_FILE = Configuration_path/'RDL.kdbx'\n",
    "\n",
    "logging.basicConfig(format=' %(asctime)s -  %(levelname)s -  %(message)s', handlers = [logging.StreamHandler()])\n",
    "logging.getLogger().setLevel(logging.INFO)\n",
    "\n",
    "print('Provide password to get acces to Keepass file:')\n",
    "password = getpass.getpass()\n",
    "\n",
    "try:  \n",
    "    kp = PyKeePass(KEEPASS_FILE, password=password)\n",
    "    logging.info('Keepass data loaded')\n",
    "except:\n",
    "    logging.exception('Cannot open the keepass file:')"
   ]
  },
  {
   "cell_type": "markdown",
   "id": "dbc31277",
   "metadata": {},
   "source": [
    "# Connection à la base de données"
   ]
  },
  {
   "cell_type": "code",
   "execution_count": 5,
   "id": "5112d5b0",
   "metadata": {},
   "outputs": [],
   "source": [
    "def connexion_setup(kp_con_name='SBX-RDS'):\n",
    "\n",
    "    credential = kp.find_entries(title=kp_con_name, first=True)\n",
    "\n",
    "    con = credential.url.split('//')[0] + '//' + \\\n",
    "    credential.username +':'+ \\\n",
    "    credential.password + \\\n",
    "    credential.url.split('//')[1]\n",
    "    logging.debug(f'connexion string: {con}')\n",
    "\n",
    "    con_engine = sqlalchemy.create_engine(con)\n",
    "\n",
    "    return con_engine"
   ]
  },
  {
   "cell_type": "code",
   "execution_count": 6,
   "id": "4f0094d5",
   "metadata": {},
   "outputs": [],
   "source": [
    "#Read mapping file\n",
    "VAR_MAPPING_FILE = Configuration_path/'10min_variables_iec_to_std_names_mapping.csv'\n",
    "df = pd.read_csv(VAR_MAPPING_FILE)\n",
    "df.head()\n",
    "\n",
    "#Mapping dict\n",
    "iec2std = df.loc[:,['iec_attribute61400','business_description']].set_index('iec_attribute61400')['business_description'].to_dict()\n",
    "std2iec = df.loc[:,['iec_attribute61400','business_description']].set_index('business_description')['iec_attribute61400'].to_dict()\n",
    "\n",
    "#Récupération des données utiles\n",
    "mask_features = [False]\n",
    "List_features = ['active_power_avg','wind_speed_avg']\n",
    "for feature in List_features :\n",
    "    mask_features = mask_features | (df.business_description == feature)\n",
    "temperature_features = df.loc[mask_features,:]\n",
    "features_selection_str = str(list(temperature_features.iec_attribute61400)).replace(\"'\", '').replace(\"[\", \"\").replace(\"]\", \"\")"
   ]
  },
  {
   "cell_type": "markdown",
   "id": "d2d34d5b",
   "metadata": {},
   "source": [
    "# Extraction de données"
   ]
  },
  {
   "cell_type": "code",
   "execution_count": 7,
   "id": "8a323ffe",
   "metadata": {},
   "outputs": [],
   "source": [
    "#Liste des projets à extraire\n",
    "start_project = 'PEZI'\n",
    "start_month = '2020-01'\n",
    "end_month = '2021-11'"
   ]
  },
  {
   "cell_type": "code",
   "execution_count": 8,
   "id": "e7668c5d",
   "metadata": {},
   "outputs": [],
   "source": [
    "months_range = pd.date_range(start=start_month, end=end_month, freq='MS')\n",
    "months_list = [str(months_range[i])[0:7] for i in range(len(months_range))]\n",
    "\n",
    "#On récupère la liste des projets\n",
    "List_projects = pd.read_csv(Path('/home/ec2-user/SageMaker/EtudeWindIndex/Data/list_projects.csv'),sep=';').project.tolist()\n",
    "List_projects = List_projects[List_projects.index(start_project):]\n",
    "#List_projects = ['ESPS']"
   ]
  },
  {
   "cell_type": "code",
   "execution_count": null,
   "id": "7cb2b585",
   "metadata": {},
   "outputs": [
    {
     "name": "stderr",
     "output_type": "stream",
     "text": [
      " 2022-02-01 13:55:37,676 -  INFO -  project : PEZI\n",
      " 2022-02-01 13:55:37,813 -  INFO -  month : 2020-01\n",
      "/home/ec2-user/anaconda3/envs/python3/lib/python3.6/site-packages/psycopg2/__init__.py:144: UserWarning: The psycopg2 wheel package will be renamed from release 2.8; in order to keep installing from binary please use \"pip install psycopg2-binary\" instead. For details see: <http://initd.org/psycopg/docs/install.html#binary-install-from-pypi>.\n",
      "  \"\"\")\n",
      " 2022-02-01 13:58:35,579 -  INFO -  month : 2020-02\n",
      " 2022-02-01 14:01:32,961 -  INFO -  month : 2020-03\n",
      " 2022-02-01 14:04:22,070 -  INFO -  month : 2020-04\n",
      " 2022-02-01 14:06:54,922 -  INFO -  month : 2020-05\n",
      " 2022-02-01 14:09:35,721 -  INFO -  month : 2020-06\n",
      " 2022-02-01 14:11:51,921 -  INFO -  month : 2020-07\n",
      " 2022-02-01 14:13:55,415 -  INFO -  month : 2020-08\n",
      " 2022-02-01 14:15:51,636 -  INFO -  month : 2020-09\n",
      " 2022-02-01 14:16:02,163 -  INFO -  month : 2020-10\n",
      " 2022-02-01 14:16:11,489 -  INFO -  month : 2020-11\n",
      " 2022-02-01 14:16:21,248 -  INFO -  month : 2020-12\n",
      " 2022-02-01 14:16:30,073 -  INFO -  month : 2021-01\n",
      " 2022-02-01 14:17:43,228 -  INFO -  month : 2021-02\n"
     ]
    }
   ],
   "source": [
    "for PROJECT in List_projects :\n",
    "    \n",
    "    logging.info(\"project : {}\".format(PROJECT))\n",
    "    \n",
    "    _10min_project = pd.DataFrame(columns=['asset_id','ts'] + List_features)\n",
    "    \n",
    "    #Number of WTGS in this project from WDM\n",
    "    query = f'''SELECT project_code, iec_eqpt_code, wt_neighbor_01, power_curve_code\n",
    "    FROM wdm.adm_eqpt_wt \n",
    "    WHERE project_code = '{PROJECT}' ;\n",
    "    '''\n",
    "    \n",
    "    with connexion_setup('SBX-WDM').connect() as conn:\n",
    "        wtg_eqpt_codes = pd.read_sql_query(sql=query, con=conn, params={})\n",
    "    \n",
    "    WTGS = tuple(wtg_eqpt_codes.iec_eqpt_code)\n",
    "        \n",
    "    #10 minutes data extraction\n",
    "    for MONTH in months_list :\n",
    "        \n",
    "        logging.info(\"month : {}\".format(MONTH))\n",
    "        \n",
    "        FROM_DATE =  MONTH + '-01 00:00:00'  # included\n",
    "        if int(MONTH[-2:])==12:\n",
    "            TO_DATE = f'{int(MONTH[:-3]) + 1}-01-01 00:00:00'      # not included \n",
    "        elif int(MONTH[-2:])>=9:\n",
    "                TO_DATE = f'{MONTH[:-3]}-{int(MONTH[-2:]) + 1}-01 00:00:00'      # not included \n",
    "        else :\n",
    "            TO_DATE = f'{MONTH[:-3]}-0{int(MONTH[-2:]) + 1}-01 00:00:00'      # not included \n",
    "            TO_DATE = f'2021-12-01 00:00:00'      # not included\n",
    "            \n",
    "        DATES = [d.strftime('%Y%m%d') for d in pd.date_range(FROM_DATE, TO_DATE)]\n",
    "        _10min_tables = [f'eu_data.tur_10m_{date}_q' for date in DATES[:-1]]\n",
    "        query = \"\"\n",
    "        \n",
    "        for i, table in enumerate(_10min_tables):\n",
    "            if i != 0:\n",
    "                query = query + \"UNION\\n\"\n",
    "            query = query + f'''SELECT  asset_id, \n",
    "            ts,\n",
    "            {features_selection_str}\n",
    "            FROM {table} WHERE project = '{PROJECT}' AND tech_source = 'PIOEM' \\n'''\n",
    "            \n",
    "        query = query + \"ORDER BY ts ;\"\n",
    "        \n",
    "        with (connexion_setup('PWU-RSH').connect()) as conn:\n",
    "            _10min = pd.read_sql_query(sql=query, con=conn)    # query_red(conn, query)\n",
    "            \n",
    "        _10min.rename(columns=iec2std, inplace=True)\n",
    "        \n",
    "        # re-order columns\n",
    "        col_selection = _10min.columns.sort_values()\n",
    "        _10min = _10min.loc[:,col_selection]\n",
    "        \n",
    "        _10min_project = pd.concat([_10min_project, _10min])\n",
    "        \n",
    "    #On converti le timestamp\n",
    "    _10min_project['year'] = _10min_project.ts.map(lambda date: date.year)\n",
    "    _10min_project['month'] = _10min_project.ts.map(lambda date: date.month)\n",
    "    _10min_project['day'] = _10min_project.ts.map(lambda date: date.day)\n",
    "    _10min_project['hour'] = _10min_project.ts.map(lambda date: date.hour)\n",
    "    _10min_project['minute'] = _10min_project.ts.map(lambda date: date.minute)\n",
    "    \n",
    "    #On récupère le nom de projet et le numéro de turbine\n",
    "    _10min_project['project'] = _10min_project.asset_id.map(lambda name: name[0:4])\n",
    "    _10min_project['turbine'] = _10min_project.asset_id.map(lambda name: int(name[-3:]))\n",
    "    \n",
    "    #On garde les informations utiles\n",
    "    _10min_project.drop(['asset_id','ts'], axis=1, inplace=True)\n",
    "    #On modifie l'index pour retrouver plus facilement les données\n",
    "    _10min_project.set_index(['project','turbine','year','month','day','hour','minute'], inplace=True)\n",
    "\n",
    "    #Sauvegarde sur le notebook\n",
    "    _10min_path = Path('/home/ec2-user/SageMaker/EtudeWindIndex/Data/Windga/WindGa_hourly/Clean/10min_'+PROJECT+'.csv')\n",
    "    _10min_project.to_csv(_10min_path, index=False, sep=';')\n",
    "    \n",
    "    #Sauvegarde sur le S3\n",
    "    outfile = '10min_'+PROJECT+'.csv'\n",
    "    _10min_project.to_csv(f's3://{S3_bucket_name}/{S3_CSV_FOLD}/{outfile}', index=True, sep=';')"
   ]
  },
  {
   "cell_type": "code",
   "execution_count": null,
   "id": "0023f704",
   "metadata": {},
   "outputs": [],
   "source": []
  }
 ],
 "metadata": {
  "kernelspec": {
   "display_name": "conda_python3",
   "language": "python",
   "name": "conda_python3"
  },
  "language_info": {
   "codemirror_mode": {
    "name": "ipython",
    "version": 3
   },
   "file_extension": ".py",
   "mimetype": "text/x-python",
   "name": "python",
   "nbconvert_exporter": "python",
   "pygments_lexer": "ipython3",
   "version": "3.6.13"
  }
 },
 "nbformat": 4,
 "nbformat_minor": 5
}
