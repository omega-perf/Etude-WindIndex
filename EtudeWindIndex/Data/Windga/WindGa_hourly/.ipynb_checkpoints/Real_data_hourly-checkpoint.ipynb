{
 "cells": [
  {
   "cell_type": "markdown",
   "id": "0c1bb58e",
   "metadata": {},
   "source": [
    "# Imports"
   ]
  },
  {
   "cell_type": "code",
   "execution_count": 1,
   "id": "8e6bc506",
   "metadata": {},
   "outputs": [
    {
     "name": "stdout",
     "output_type": "stream",
     "text": [
      "Requirement already satisfied: pymysql in /home/ec2-user/anaconda3/envs/python3/lib/python3.6/site-packages (1.0.2)\n",
      "Requirement already satisfied: sqlalchemy-redshift in /home/ec2-user/anaconda3/envs/python3/lib/python3.6/site-packages (0.8.9)\n",
      "Requirement already satisfied: pykeepass in /home/ec2-user/anaconda3/envs/python3/lib/python3.6/site-packages (4.0.1)\n",
      "Requirement already satisfied: SQLAlchemy<2.0.0,>=0.9.2 in /home/ec2-user/anaconda3/envs/python3/lib/python3.6/site-packages (from sqlalchemy-redshift) (1.3.23)\n",
      "Requirement already satisfied: packaging in /home/ec2-user/anaconda3/envs/python3/lib/python3.6/site-packages (from sqlalchemy-redshift) (21.3)\n",
      "Requirement already satisfied: pycryptodomex>=3.6.2 in /home/ec2-user/anaconda3/envs/python3/lib/python3.6/site-packages (from pykeepass) (3.13.0)\n",
      "Requirement already satisfied: future in /home/ec2-user/anaconda3/envs/python3/lib/python3.6/site-packages (from pykeepass) (0.18.2)\n",
      "Requirement already satisfied: lxml in /home/ec2-user/anaconda3/envs/python3/lib/python3.6/site-packages (from pykeepass) (4.6.4)\n",
      "Requirement already satisfied: python-dateutil in /home/ec2-user/anaconda3/envs/python3/lib/python3.6/site-packages (from pykeepass) (2.8.1)\n",
      "Requirement already satisfied: argon2-cffi in /home/ec2-user/anaconda3/envs/python3/lib/python3.6/site-packages (from pykeepass) (20.1.0)\n",
      "Requirement already satisfied: construct==2.10.54 in /home/ec2-user/anaconda3/envs/python3/lib/python3.6/site-packages (from pykeepass) (2.10.54)\n",
      "Requirement already satisfied: six in /home/ec2-user/anaconda3/envs/python3/lib/python3.6/site-packages (from argon2-cffi->pykeepass) (1.15.0)\n",
      "Requirement already satisfied: cffi>=1.0.0 in /home/ec2-user/anaconda3/envs/python3/lib/python3.6/site-packages (from argon2-cffi->pykeepass) (1.14.5)\n",
      "Requirement already satisfied: pyparsing!=3.0.5,>=2.0.2 in /home/ec2-user/anaconda3/envs/python3/lib/python3.6/site-packages (from packaging->sqlalchemy-redshift) (2.4.7)\n",
      "Requirement already satisfied: pycparser in /home/ec2-user/anaconda3/envs/python3/lib/python3.6/site-packages (from cffi>=1.0.0->argon2-cffi->pykeepass) (2.20)\n",
      "Note: you may need to restart the kernel to use updated packages.\n"
     ]
    }
   ],
   "source": [
    "pip install pymysql sqlalchemy-redshift pykeepass"
   ]
  },
  {
   "cell_type": "code",
   "execution_count": 2,
   "id": "3a6f2018",
   "metadata": {},
   "outputs": [],
   "source": [
    "from pykeepass import PyKeePass\n",
    "import logging\n",
    "import getpass\n",
    "import os\n",
    "from datetime import datetime\n",
    "import pandas as pd\n",
    "import numpy as np\n",
    "import sqlalchemy\n",
    "import matplotlib.pyplot as plt\n",
    "import seaborn as sns\n",
    "import boto3 #Save in S3\n",
    "from pathlib import Path"
   ]
  },
  {
   "cell_type": "markdown",
   "id": "e40834a0",
   "metadata": {},
   "source": [
    "# Accès aux données Keepass"
   ]
  },
  {
   "cell_type": "code",
   "execution_count": 3,
   "id": "7298994e",
   "metadata": {},
   "outputs": [
    {
     "name": "stdout",
     "output_type": "stream",
     "text": [
      "Provide password to get acces to Keepass file:\n"
     ]
    },
    {
     "name": "stdin",
     "output_type": "stream",
     "text": [
      " ·········\n"
     ]
    },
    {
     "name": "stderr",
     "output_type": "stream",
     "text": [
      " 2022-01-24 15:58:48,244 -  INFO -  Keepass data loaded\n"
     ]
    }
   ],
   "source": [
    "#Keepass credential + logger set-up\n",
    "#Get logging information stored in keepass\n",
    "Configuration_path = Path('/home/ec2-user/SageMaker/EtudeWindIndex/Data/Windga/WindGa_hourly/Configuration')\n",
    "KEEPASS_FILE = Configuration_path/'RDL.kdbx'\n",
    "\n",
    "logging.basicConfig(format=' %(asctime)s -  %(levelname)s -  %(message)s', handlers = [logging.StreamHandler()])\n",
    "logging.getLogger().setLevel(logging.INFO)\n",
    "\n",
    "print('Provide password to get acces to Keepass file:')\n",
    "password = getpass.getpass()\n",
    "\n",
    "try:  \n",
    "    kp = PyKeePass(KEEPASS_FILE, password=password)\n",
    "    logging.info('Keepass data loaded')\n",
    "except:\n",
    "    logging.exception('Cannot open the keepass file:')"
   ]
  },
  {
   "cell_type": "code",
   "execution_count": 4,
   "id": "ffd1c5c1",
   "metadata": {},
   "outputs": [
    {
     "data": {
      "text/plain": [
       "'redshift+psycopg2://@rsh-eu-west-1a-exposure-warehouse-enduser.cs3rrvwot6nc.eu-west-1.redshift.amazonaws.com:5439/dwh'"
      ]
     },
     "execution_count": 4,
     "metadata": {},
     "output_type": "execute_result"
    }
   ],
   "source": [
    "# TEMP\n",
    "kp.find_entries(title='PWU-RSH', first=True).url"
   ]
  },
  {
   "cell_type": "markdown",
   "id": "3a74901c",
   "metadata": {},
   "source": [
    "# Connection à la base de donnéesurl"
   ]
  },
  {
   "cell_type": "code",
   "execution_count": 5,
   "id": "65db6f7b",
   "metadata": {},
   "outputs": [],
   "source": [
    "def connexion_setup(kp_con_name='SBX-RDS'):\n",
    "\n",
    "    credential = kp.find_entries(title=kp_con_name, first=True)\n",
    "\n",
    "    con = credential.url.split('//')[0] + '//' + \\\n",
    "    credential.username +':'+ \\\n",
    "    credential.password + \\\n",
    "    credential.url.split('//')[1]\n",
    "    logging.debug(f'connexion string: {con}')\n",
    "\n",
    "    con_engine = sqlalchemy.create_engine(con)\n",
    "\n",
    "    return con_engine"
   ]
  },
  {
   "cell_type": "code",
   "execution_count": 6,
   "id": "a0b419b9",
   "metadata": {},
   "outputs": [
    {
     "data": {
      "text/plain": [
       "'wmet4_horwdspd_mag_f, wtur4_w_mag_f'"
      ]
     },
     "execution_count": 6,
     "metadata": {},
     "output_type": "execute_result"
    }
   ],
   "source": [
    "#Read mapping file\n",
    "VAR_MAPPING_FILE = Configuration_path/'10min_variables_iec_to_std_names_mapping.csv'\n",
    "df = pd.read_csv(VAR_MAPPING_FILE)\n",
    "df.head()\n",
    "\n",
    "#Mapping dict\n",
    "iec2std = df.loc[:,['iec_attribute61400','business_description']].set_index('iec_attribute61400')['business_description'].to_dict()\n",
    "std2iec = df.loc[:,['iec_attribute61400','business_description']].set_index('business_description')['iec_attribute61400'].to_dict()\n",
    "\n",
    "#Récupération des données utiles\n",
    "mask_features = [False]\n",
    "List_features = ['active_power_avg','wind_speed_avg']\n",
    "for feature in List_features :\n",
    "    mask_features = mask_features | (df.business_description == feature)\n",
    "temperature_features = df.loc[mask_features,:]\n",
    "features_selection_str = str(list(temperature_features.iec_attribute61400)).replace(\"'\", '').replace(\"[\", \"\").replace(\"]\", \"\")\n",
    "\n",
    "#Visualisation\n",
    "features_selection_str"
   ]
  },
  {
   "cell_type": "code",
   "execution_count": 7,
   "id": "e0eccbed",
   "metadata": {},
   "outputs": [],
   "source": [
    "#Paramètres\n",
    "PROJECT =  'ESPS'\n",
    "MONTH = '2021-10'    # string: 'YYYY-MM'"
   ]
  },
  {
   "cell_type": "markdown",
   "id": "7c72bd65",
   "metadata": {},
   "source": [
    "# Extraction de données"
   ]
  },
  {
   "cell_type": "code",
   "execution_count": 8,
   "id": "97c8231b",
   "metadata": {},
   "outputs": [
    {
     "data": {
      "text/plain": [
       "('ESPS-ECP001-TUR001',\n",
       " 'ESPS-ECP001-TUR002',\n",
       " 'ESPS-ECP001-TUR003',\n",
       " 'ESPS-ECP001-TUR004',\n",
       " 'ESPS-ECP001-TUR005')"
      ]
     },
     "execution_count": 8,
     "metadata": {},
     "output_type": "execute_result"
    }
   ],
   "source": [
    "#Number of WTGS in this project from WDM\n",
    "query = f'''SELECT project_code, iec_eqpt_code, wt_neighbor_01, power_curve_code\n",
    "            FROM wdm.adm_eqpt_wt \n",
    "            WHERE project_code = '{PROJECT}' ;\n",
    "            '''\n",
    "            \n",
    "with connexion_setup('SBX-WDM').connect() as conn:\n",
    "     wtg_eqpt_codes = pd.read_sql_query(sql=query,\n",
    "                                        con=conn, \n",
    "                                        params={})\n",
    "WTGS = tuple(wtg_eqpt_codes.iec_eqpt_code)\n",
    "\n",
    "#Visualisation\n",
    "WTGS"
   ]
  },
  {
   "cell_type": "code",
   "execution_count": 9,
   "id": "4faaf6e9",
   "metadata": {},
   "outputs": [
    {
     "name": "stderr",
     "output_type": "stream",
     "text": [
      "/home/ec2-user/anaconda3/envs/python3/lib/python3.6/site-packages/psycopg2/__init__.py:144: UserWarning: The psycopg2 wheel package will be renamed from release 2.8; in order to keep installing from binary please use \"pip install psycopg2-binary\" instead. For details see: <http://initd.org/psycopg/docs/install.html#binary-install-from-pypi>.\n",
      "  \"\"\")\n"
     ]
    },
    {
     "data": {
      "text/html": [
       "<div>\n",
       "<style scoped>\n",
       "    .dataframe tbody tr th:only-of-type {\n",
       "        vertical-align: middle;\n",
       "    }\n",
       "\n",
       "    .dataframe tbody tr th {\n",
       "        vertical-align: top;\n",
       "    }\n",
       "\n",
       "    .dataframe thead th {\n",
       "        text-align: right;\n",
       "    }\n",
       "</style>\n",
       "<table border=\"1\" class=\"dataframe\">\n",
       "  <thead>\n",
       "    <tr style=\"text-align: right;\">\n",
       "      <th></th>\n",
       "      <th></th>\n",
       "      <th>active_power_avg</th>\n",
       "      <th>wind_speed_avg</th>\n",
       "    </tr>\n",
       "    <tr>\n",
       "      <th>asset_id</th>\n",
       "      <th>ts</th>\n",
       "      <th></th>\n",
       "      <th></th>\n",
       "    </tr>\n",
       "  </thead>\n",
       "  <tbody>\n",
       "    <tr>\n",
       "      <th>ESPS-ECP001-TUR001</th>\n",
       "      <th>2021-10-01</th>\n",
       "      <td>2001.430</td>\n",
       "      <td>9.49306</td>\n",
       "    </tr>\n",
       "    <tr>\n",
       "      <th>ESPS-ECP001-TUR003</th>\n",
       "      <th>2021-10-01</th>\n",
       "      <td>762.507</td>\n",
       "      <td>5.27715</td>\n",
       "    </tr>\n",
       "    <tr>\n",
       "      <th>ESPS-ECP001-TUR002</th>\n",
       "      <th>2021-10-01</th>\n",
       "      <td>2369.030</td>\n",
       "      <td>10.10530</td>\n",
       "    </tr>\n",
       "    <tr>\n",
       "      <th>ESPS-ECP001-TUR005</th>\n",
       "      <th>2021-10-01</th>\n",
       "      <td>2532.690</td>\n",
       "      <td>11.04370</td>\n",
       "    </tr>\n",
       "    <tr>\n",
       "      <th>ESPS-ECP001-TUR004</th>\n",
       "      <th>2021-10-01</th>\n",
       "      <td>1213.970</td>\n",
       "      <td>7.17237</td>\n",
       "    </tr>\n",
       "  </tbody>\n",
       "</table>\n",
       "</div>"
      ],
      "text/plain": [
       "                               active_power_avg  wind_speed_avg\n",
       "asset_id           ts                                          \n",
       "ESPS-ECP001-TUR001 2021-10-01          2001.430         9.49306\n",
       "ESPS-ECP001-TUR003 2021-10-01           762.507         5.27715\n",
       "ESPS-ECP001-TUR002 2021-10-01          2369.030        10.10530\n",
       "ESPS-ECP001-TUR005 2021-10-01          2532.690        11.04370\n",
       "ESPS-ECP001-TUR004 2021-10-01          1213.970         7.17237"
      ]
     },
     "execution_count": 9,
     "metadata": {},
     "output_type": "execute_result"
    }
   ],
   "source": [
    "#10 minutes data extraction\n",
    "FROM_DATE =  MONTH + '-01 00:00:00'  # included\n",
    "if int(MONTH[-2:])==12:\n",
    "    TO_DATE = f'{int(MONTH[:-3]) + 1}-01-01 00:00:00'      # not included \n",
    "elif int(MONTH[-2:])>=9:\n",
    "    TO_DATE = f'{MONTH[:-3]}-{int(MONTH[-2:]) + 1}-01 00:00:00'      # not included \n",
    "else :\n",
    "    TO_DATE = f'{MONTH[:-3]}-0{int(MONTH[-2:]) + 1}-01 00:00:00'      # not included \n",
    "    TO_DATE = f'2021-12-01 00:00:00'      # not included\n",
    "\n",
    "\n",
    "DATES = [d.strftime('%Y%m%d') for d in pd.date_range(FROM_DATE, TO_DATE)]\n",
    "_10min_tables = [f'eu_data.tur_10m_{date}_q' for date in DATES[:-1]]\n",
    "query = \"\"\n",
    "\n",
    "for i, table in enumerate(_10min_tables):\n",
    "    if i != 0:\n",
    "        query = query + \"UNION\\n\"\n",
    "    query = query + f'''SELECT  asset_id,\n",
    "                                ts,\n",
    "                                {features_selection_str}\n",
    "                        FROM {table} WHERE project = '{PROJECT}' AND tech_source = 'PIOEM' \\n'''\n",
    "\n",
    "query = query + \"ORDER BY ts ;\"\n",
    "\n",
    "with (connexion_setup('PWU-RSH').connect()) as conn:\n",
    "    _10min = pd.read_sql_query(sql=query, con=conn)    # query_red(conn, query)\n",
    "  \n",
    "_10min.rename(columns=iec2std,\n",
    "             inplace=True)\n",
    "\n",
    "_10min.set_index(['asset_id', 'ts'], inplace=True)\n",
    "\n",
    "# re-order columns\n",
    "col_selection = _10min.columns.sort_values()\n",
    "_10min = _10min.loc[:,col_selection]\n",
    "_10min.head()"
   ]
  },
  {
   "cell_type": "code",
   "execution_count": null,
   "id": "ae2896dd",
   "metadata": {},
   "outputs": [],
   "source": []
  }
 ],
 "metadata": {
  "kernelspec": {
   "display_name": "conda_python3",
   "language": "python",
   "name": "conda_python3"
  },
  "language_info": {
   "codemirror_mode": {
    "name": "ipython",
    "version": 3
   },
   "file_extension": ".py",
   "mimetype": "text/x-python",
   "name": "python",
   "nbconvert_exporter": "python",
   "pygments_lexer": "ipython3",
   "version": "3.6.13"
  }
 },
 "nbformat": 4,
 "nbformat_minor": 5
}
