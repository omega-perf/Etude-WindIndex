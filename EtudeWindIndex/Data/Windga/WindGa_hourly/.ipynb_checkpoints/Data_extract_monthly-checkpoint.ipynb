{
 "cells": [
  {
   "cell_type": "markdown",
   "id": "2676d1d5",
   "metadata": {},
   "source": [
    "# Instalations"
   ]
  },
  {
   "cell_type": "code",
   "execution_count": 1,
   "id": "44d6ad33",
   "metadata": {},
   "outputs": [
    {
     "name": "stdout",
     "output_type": "stream",
     "text": [
      "Collecting pymysql\n",
      "  Downloading PyMySQL-1.0.2-py3-none-any.whl (43 kB)\n",
      "     |████████████████████████████████| 43 kB 4.0 MB/s             \n",
      "\u001b[?25hCollecting sqlalchemy-redshift\n",
      "  Downloading sqlalchemy_redshift-0.8.9-py2.py3-none-any.whl (36 kB)\n",
      "Collecting pykeepass\n",
      "  Downloading pykeepass-4.0.1.tar.gz (48 kB)\n",
      "     |████████████████████████████████| 48 kB 1.7 MB/s             \n",
      "\u001b[?25h  Preparing metadata (setup.py) ... \u001b[?25ldone\n",
      "\u001b[?25hRequirement already satisfied: packaging in /home/ec2-user/anaconda3/envs/python3/lib/python3.6/site-packages (from sqlalchemy-redshift) (21.3)\n",
      "Requirement already satisfied: SQLAlchemy<2.0.0,>=0.9.2 in /home/ec2-user/anaconda3/envs/python3/lib/python3.6/site-packages (from sqlalchemy-redshift) (1.3.23)\n",
      "Requirement already satisfied: python-dateutil in /home/ec2-user/anaconda3/envs/python3/lib/python3.6/site-packages (from pykeepass) (2.8.1)\n",
      "Collecting construct==2.10.54\n",
      "  Downloading construct-2.10.54.tar.gz (55 kB)\n",
      "     |████████████████████████████████| 55 kB 755 kB/s             \n",
      "\u001b[?25h  Preparing metadata (setup.py) ... \u001b[?25ldone\n",
      "\u001b[?25hRequirement already satisfied: argon2_cffi in /home/ec2-user/anaconda3/envs/python3/lib/python3.6/site-packages (from pykeepass) (20.1.0)\n",
      "Collecting pycryptodomex>=3.6.2\n",
      "  Downloading pycryptodomex-3.13.0-cp35-abi3-manylinux2010_x86_64.whl (2.0 MB)\n",
      "     |████████████████████████████████| 2.0 MB 42.8 MB/s            \n",
      "\u001b[?25hRequirement already satisfied: lxml in /home/ec2-user/anaconda3/envs/python3/lib/python3.6/site-packages (from pykeepass) (4.6.4)\n",
      "Requirement already satisfied: future in /home/ec2-user/anaconda3/envs/python3/lib/python3.6/site-packages (from pykeepass) (0.18.2)\n",
      "Requirement already satisfied: cffi>=1.0.0 in /home/ec2-user/anaconda3/envs/python3/lib/python3.6/site-packages (from argon2_cffi->pykeepass) (1.14.5)\n",
      "Requirement already satisfied: six in /home/ec2-user/anaconda3/envs/python3/lib/python3.6/site-packages (from argon2_cffi->pykeepass) (1.15.0)\n",
      "Requirement already satisfied: pyparsing!=3.0.5,>=2.0.2 in /home/ec2-user/anaconda3/envs/python3/lib/python3.6/site-packages (from packaging->sqlalchemy-redshift) (2.4.7)\n",
      "Requirement already satisfied: pycparser in /home/ec2-user/anaconda3/envs/python3/lib/python3.6/site-packages (from cffi>=1.0.0->argon2_cffi->pykeepass) (2.20)\n",
      "Building wheels for collected packages: pykeepass, construct\n",
      "  Building wheel for pykeepass (setup.py) ... \u001b[?25ldone\n",
      "\u001b[?25h  Created wheel for pykeepass: filename=pykeepass-4.0.1-py3-none-any.whl size=49853 sha256=b429bf3f8f0d3bdb2240590f5fee69277464ebe85e4141cdf22ac8abb2a8ef86\n",
      "  Stored in directory: /home/ec2-user/.cache/pip/wheels/94/20/fa/8287149e26c3c46811fc5e091deee5ed51904f7ee8739039bf\n",
      "  Building wheel for construct (setup.py) ... \u001b[?25ldone\n",
      "\u001b[?25h  Created wheel for construct: filename=construct-2.10.54-py3-none-any.whl size=57401 sha256=0decbcc275a222419305bca70ea5a596fcbc5af414c723d9e97af87d95e12798\n",
      "  Stored in directory: /home/ec2-user/.cache/pip/wheels/3c/c1/c6/3669a34f11c1afea0b6bf702f8210a5deec2ac5f38521cded2\n",
      "Successfully built pykeepass construct\n",
      "Installing collected packages: pycryptodomex, construct, sqlalchemy-redshift, pymysql, pykeepass\n",
      "Successfully installed construct-2.10.54 pycryptodomex-3.13.0 pykeepass-4.0.1 pymysql-1.0.2 sqlalchemy-redshift-0.8.9\n",
      "Note: you may need to restart the kernel to use updated packages.\n"
     ]
    }
   ],
   "source": [
    "pip install pymysql sqlalchemy-redshift pykeepass"
   ]
  },
  {
   "cell_type": "code",
   "execution_count": 2,
   "id": "40a13e60",
   "metadata": {},
   "outputs": [],
   "source": [
    "from pykeepass import PyKeePass\n",
    "import logging\n",
    "import getpass\n",
    "import os\n",
    "from datetime import datetime\n",
    "import pandas as pd\n",
    "import numpy as np\n",
    "import sqlalchemy\n",
    "import matplotlib.pyplot as plt\n",
    "import seaborn as sns\n",
    "import boto3 #Save in S3\n",
    "from pathlib import Path"
   ]
  },
  {
   "cell_type": "code",
   "execution_count": 3,
   "id": "69458f49",
   "metadata": {},
   "outputs": [],
   "source": [
    "S3_bucket_name = 'edfred-edfre-sbx-eu-west-1-solar-radiation-data'\n",
    "S3_CSV_FOLD = r'EtudeWindIndex/Real'"
   ]
  },
  {
   "cell_type": "markdown",
   "id": "dea31f2b",
   "metadata": {},
   "source": [
    "# Accès aux données Keepass"
   ]
  },
  {
   "cell_type": "code",
   "execution_count": 5,
   "id": "49f657b8",
   "metadata": {},
   "outputs": [
    {
     "name": "stdout",
     "output_type": "stream",
     "text": [
      "Provide password to get acces to Keepass file:\n"
     ]
    },
    {
     "name": "stdin",
     "output_type": "stream",
     "text": [
      " ·········\n"
     ]
    },
    {
     "name": "stderr",
     "output_type": "stream",
     "text": [
      " 2022-01-28 08:16:52,502 -  INFO -  Keepass data loaded\n"
     ]
    }
   ],
   "source": [
    "#Get logging information stored in keepass\n",
    "Configuration_path = Path('/home/ec2-user/SageMaker/EtudeWindIndex/Data/Windga/WindGa_hourly/Configuration')\n",
    "KEEPASS_FILE = Configuration_path/'RDL.kdbx'\n",
    "\n",
    "logging.basicConfig(format=' %(asctime)s -  %(levelname)s -  %(message)s', handlers = [logging.StreamHandler()])\n",
    "logging.getLogger().setLevel(logging.INFO)\n",
    "\n",
    "print('Provide password to get acces to Keepass file:')\n",
    "password = getpass.getpass()\n",
    "\n",
    "try:  \n",
    "    kp = PyKeePass(KEEPASS_FILE, password=password)\n",
    "    logging.info('Keepass data loaded')\n",
    "except:\n",
    "    logging.exception('Cannot open the keepass file:')"
   ]
  },
  {
   "cell_type": "code",
   "execution_count": 6,
   "id": "64769146",
   "metadata": {},
   "outputs": [
    {
     "data": {
      "text/plain": [
       "'redshift+psycopg2://@rsh-eu-west-1a-exposure-warehouse-enduser.cs3rrvwot6nc.eu-west-1.redshift.amazonaws.com:5439/dwh'"
      ]
     },
     "execution_count": 6,
     "metadata": {},
     "output_type": "execute_result"
    }
   ],
   "source": [
    "# TEMP\n",
    "kp.find_entries(title='PWU-RSH', first=True).url"
   ]
  },
  {
   "cell_type": "markdown",
   "id": "f66692f5",
   "metadata": {},
   "source": [
    "# Connection à la base de données"
   ]
  },
  {
   "cell_type": "code",
   "execution_count": 7,
   "id": "98ddce99",
   "metadata": {},
   "outputs": [],
   "source": [
    "def connexion_setup(kp_con_name='SBX-RDS'):\n",
    "\n",
    "    credential = kp.find_entries(title=kp_con_name, first=True)\n",
    "\n",
    "    con = credential.url.split('//')[0] + '//' + \\\n",
    "    credential.username +':'+ \\\n",
    "    credential.password + \\\n",
    "    credential.url.split('//')[1]\n",
    "    logging.debug(f'connexion string: {con}')\n",
    "\n",
    "    con_engine = sqlalchemy.create_engine(con)\n",
    "\n",
    "    return con_engine"
   ]
  },
  {
   "cell_type": "code",
   "execution_count": 8,
   "id": "d056bf38",
   "metadata": {},
   "outputs": [
    {
     "data": {
      "text/plain": [
       "'wmet4_horwdspd_mag_f, wtur4_w_mag_f'"
      ]
     },
     "execution_count": 8,
     "metadata": {},
     "output_type": "execute_result"
    }
   ],
   "source": [
    "#Read mapping file\n",
    "VAR_MAPPING_FILE = Configuration_path/'10min_variables_iec_to_std_names_mapping.csv'\n",
    "df = pd.read_csv(VAR_MAPPING_FILE)\n",
    "df.head()\n",
    "\n",
    "#Mapping dict\n",
    "iec2std = df.loc[:,['iec_attribute61400','business_description']].set_index('iec_attribute61400')['business_description'].to_dict()\n",
    "std2iec = df.loc[:,['iec_attribute61400','business_description']].set_index('business_description')['iec_attribute61400'].to_dict()\n",
    "\n",
    "#Récupération des données utiles\n",
    "mask_features = [False]\n",
    "List_features = ['active_power_avg','wind_speed_avg']\n",
    "for feature in List_features :\n",
    "    mask_features = mask_features | (df.business_description == feature)\n",
    "temperature_features = df.loc[mask_features,:]\n",
    "features_selection_str = str(list(temperature_features.iec_attribute61400)).replace(\"'\", '').replace(\"[\", \"\").replace(\"]\", \"\")\n",
    "\n",
    "#Visualisation\n",
    "features_selection_str"
   ]
  },
  {
   "cell_type": "markdown",
   "id": "07f95984",
   "metadata": {},
   "source": [
    "# Extraction de données"
   ]
  },
  {
   "cell_type": "code",
   "execution_count": 9,
   "id": "03043856",
   "metadata": {},
   "outputs": [],
   "source": [
    "#Liste des projets à extraire\n",
    "start_project = 'AUQB'\n",
    "start_month = '2020-01'\n",
    "end_month = '2021-11'"
   ]
  },
  {
   "cell_type": "code",
   "execution_count": 13,
   "id": "e9d05d0d",
   "metadata": {},
   "outputs": [],
   "source": [
    "months_range = pd.date_range(start=start_month, end=end_month, freq='MS')\n",
    "months_list = [str(months_range[i])[0:7] for i in range(len(months_range))]\n",
    "\n",
    "#On récupère la liste des projets\n",
    "List_projects = pd.read_csv(Path('/home/ec2-user/SageMaker/EtudeWindIndex/Data/list_projects.csv'),sep=';').project.tolist()"
   ]
  },
  {
   "cell_type": "code",
   "execution_count": null,
   "id": "99bd0c6f",
   "metadata": {},
   "outputs": [
    {
     "name": "stderr",
     "output_type": "stream",
     "text": [
      " 2022-01-28 08:28:07,535 -  INFO -  project : AUQB\n",
      "/home/ec2-user/anaconda3/envs/python3/lib/python3.6/site-packages/psycopg2/__init__.py:144: UserWarning: The psycopg2 wheel package will be renamed from release 2.8; in order to keep installing from binary please use \"pip install psycopg2-binary\" instead. For details see: <http://initd.org/psycopg/docs/install.html#binary-install-from-pypi>.\n",
      "  \"\"\")\n",
      " 2022-01-28 08:54:45,695 -  INFO -  ascii passed initial chaos probing. Mean measured chaos is 0.000000 %\n",
      " 2022-01-28 08:54:45,697 -  INFO -  ascii should target any language(s) of ['Latin Based']\n",
      " 2022-01-28 08:54:45,703 -  INFO -  We detected language [('English', 1.0), ('Simple English', 1.0), ('Indonesian', 0.9)] using ascii\n",
      " 2022-01-28 08:54:45,704 -  INFO -  ascii is most likely the one. Stopping the process.\n",
      " 2022-01-28 08:54:45,712 -  INFO -  ascii passed initial chaos probing. Mean measured chaos is 0.000000 %\n",
      " 2022-01-28 08:54:45,713 -  INFO -  ascii should target any language(s) of ['Latin Based']\n",
      " 2022-01-28 08:54:45,717 -  INFO -  We detected language [('German', 0.8333), ('Hungarian', 0.8333), ('Slovak', 0.8333), ('English', 0.75), ('Dutch', 0.75), ('Italian', 0.75), ('Swedish', 0.75), ('Norwegian', 0.75), ('Czech', 0.75), ('Indonesian', 0.75), ('Danish', 0.75), ('Polish', 0.6667), ('Finnish', 0.6667), ('Slovene', 0.6667), ('Turkish', 0.5833), ('Vietnamese', 0.5), ('Lithuanian', 0.5)] using ascii\n",
      " 2022-01-28 08:54:45,719 -  INFO -  ascii is most likely the one. Stopping the process.\n",
      " 2022-01-28 08:54:45,733 -  INFO -  ascii passed initial chaos probing. Mean measured chaos is 0.000000 %\n",
      " 2022-01-28 08:54:45,734 -  INFO -  ascii should target any language(s) of ['Latin Based']\n",
      " 2022-01-28 08:54:45,740 -  INFO -  We detected language [('English', 1.0), ('Indonesian', 1.0), ('Simple English', 1.0)] using ascii\n",
      " 2022-01-28 08:54:45,741 -  INFO -  ascii is most likely the one. Stopping the process.\n",
      " 2022-01-28 08:55:15,041 -  INFO -  project : AMEL\n",
      " 2022-01-28 09:21:27,238 -  INFO -  ascii passed initial chaos probing. Mean measured chaos is 0.000000 %\n",
      " 2022-01-28 09:21:27,243 -  INFO -  ascii should target any language(s) of ['Latin Based']\n",
      " 2022-01-28 09:21:27,247 -  INFO -  We detected language [('English', 1.0), ('Indonesian', 1.0), ('Simple English', 0.95)] using ascii\n",
      " 2022-01-28 09:21:27,249 -  INFO -  ascii is most likely the one. Stopping the process.\n",
      " 2022-01-28 09:21:27,261 -  INFO -  ascii passed initial chaos probing. Mean measured chaos is 0.000000 %\n",
      " 2022-01-28 09:21:27,264 -  INFO -  ascii should target any language(s) of ['Latin Based']\n",
      " 2022-01-28 09:21:27,267 -  INFO -  We detected language [('German', 0.8333), ('Hungarian', 0.8333), ('Slovak', 0.8333), ('English', 0.75), ('Dutch', 0.75), ('Italian', 0.75), ('Swedish', 0.75), ('Norwegian', 0.75), ('Czech', 0.75), ('Indonesian', 0.75), ('Danish', 0.75), ('Polish', 0.6667), ('Finnish', 0.6667), ('Slovene', 0.6667), ('Turkish', 0.5833), ('Vietnamese', 0.5), ('Lithuanian', 0.5)] using ascii\n",
      " 2022-01-28 09:21:27,270 -  INFO -  ascii is most likely the one. Stopping the process.\n",
      " 2022-01-28 09:21:27,285 -  INFO -  ascii passed initial chaos probing. Mean measured chaos is 0.000000 %\n",
      " 2022-01-28 09:21:27,286 -  INFO -  ascii should target any language(s) of ['Latin Based']\n",
      " 2022-01-28 09:21:27,289 -  INFO -  We detected language [('English', 1.0), ('Indonesian', 1.0), ('Simple English', 1.0)] using ascii\n",
      " 2022-01-28 09:21:27,291 -  INFO -  ascii is most likely the one. Stopping the process.\n",
      " 2022-01-28 09:21:59,494 -  INFO -  project : BOUS\n",
      " 2022-01-28 09:48:06,859 -  INFO -  ascii passed initial chaos probing. Mean measured chaos is 0.000000 %\n",
      " 2022-01-28 09:48:06,860 -  INFO -  ascii should target any language(s) of ['Latin Based']\n",
      " 2022-01-28 09:48:06,864 -  INFO -  We detected language [('English', 1.0), ('Indonesian', 1.0), ('Simple English', 1.0)] using ascii\n",
      " 2022-01-28 09:48:06,865 -  INFO -  ascii is most likely the one. Stopping the process.\n",
      " 2022-01-28 09:48:06,870 -  INFO -  ascii passed initial chaos probing. Mean measured chaos is 0.000000 %\n",
      " 2022-01-28 09:48:06,871 -  INFO -  ascii should target any language(s) of ['Latin Based']\n",
      " 2022-01-28 09:48:06,876 -  INFO -  We detected language [('German', 0.8333), ('Hungarian', 0.8333), ('Slovak', 0.8333), ('English', 0.75), ('Dutch', 0.75), ('Italian', 0.75), ('Swedish', 0.75), ('Norwegian', 0.75), ('Czech', 0.75), ('Indonesian', 0.75), ('Danish', 0.75), ('Polish', 0.6667), ('Finnish', 0.6667), ('Slovene', 0.6667), ('Turkish', 0.5833), ('Vietnamese', 0.5), ('Lithuanian', 0.5)] using ascii\n",
      " 2022-01-28 09:48:06,878 -  INFO -  ascii is most likely the one. Stopping the process.\n",
      " 2022-01-28 09:48:06,892 -  INFO -  ascii passed initial chaos probing. Mean measured chaos is 0.000000 %\n",
      " 2022-01-28 09:48:06,893 -  INFO -  ascii should target any language(s) of ['Latin Based']\n",
      " 2022-01-28 09:48:06,896 -  INFO -  We detected language [('English', 1.0), ('Indonesian', 1.0), ('Simple English', 1.0)] using ascii\n",
      " 2022-01-28 09:48:06,897 -  INFO -  ascii is most likely the one. Stopping the process.\n",
      " 2022-01-28 09:48:32,086 -  INFO -  project : BRIY\n",
      " 2022-01-28 10:14:32,042 -  INFO -  ascii passed initial chaos probing. Mean measured chaos is 0.000000 %\n",
      " 2022-01-28 10:14:32,043 -  INFO -  ascii should target any language(s) of ['Latin Based']\n",
      " 2022-01-28 10:14:32,047 -  INFO -  We detected language [('English', 1.0), ('Indonesian', 1.0), ('Simple English', 1.0)] using ascii\n",
      " 2022-01-28 10:14:32,047 -  INFO -  ascii is most likely the one. Stopping the process.\n",
      " 2022-01-28 10:14:32,053 -  INFO -  ascii passed initial chaos probing. Mean measured chaos is 0.000000 %\n",
      " 2022-01-28 10:14:32,054 -  INFO -  ascii should target any language(s) of ['Latin Based']\n",
      " 2022-01-28 10:14:32,059 -  INFO -  We detected language [('German', 0.8333), ('Hungarian', 0.8333), ('Slovak', 0.8333), ('English', 0.75), ('Dutch', 0.75), ('Italian', 0.75), ('Swedish', 0.75), ('Norwegian', 0.75), ('Czech', 0.75), ('Indonesian', 0.75), ('Danish', 0.75), ('Polish', 0.6667), ('Finnish', 0.6667), ('Slovene', 0.6667), ('Turkish', 0.5833), ('Vietnamese', 0.5), ('Lithuanian', 0.5)] using ascii\n",
      " 2022-01-28 10:14:32,064 -  INFO -  ascii is most likely the one. Stopping the process.\n",
      " 2022-01-28 10:14:32,078 -  INFO -  ascii passed initial chaos probing. Mean measured chaos is 0.000000 %\n",
      " 2022-01-28 10:14:32,079 -  INFO -  ascii should target any language(s) of ['Latin Based']\n",
      " 2022-01-28 10:14:32,093 -  INFO -  We detected language [('English', 1.0), ('Indonesian', 1.0), ('Simple English', 1.0)] using ascii\n",
      " 2022-01-28 10:14:32,097 -  INFO -  ascii is most likely the one. Stopping the process.\n",
      " 2022-01-28 10:14:50,555 -  INFO -  project : CLIT\n"
     ]
    }
   ],
   "source": [
    "for PROJECT in List_projects :\n",
    "    \n",
    "    logging.info(\"project : {}\".format(PROJECT))\n",
    "    \n",
    "    _10min_project = pd.DataFrame(columns=['asset_id','ts'] + List_features)\n",
    "    \n",
    "    #Number of WTGS in this project from WDM\n",
    "    query = f'''SELECT project_code, iec_eqpt_code, wt_neighbor_01, power_curve_code\n",
    "    FROM wdm.adm_eqpt_wt \n",
    "    WHERE project_code = '{PROJECT}' ;\n",
    "    '''\n",
    "    \n",
    "    with connexion_setup('SBX-WDM').connect() as conn:\n",
    "        wtg_eqpt_codes = pd.read_sql_query(sql=query, con=conn, params={})\n",
    "    \n",
    "    WTGS = tuple(wtg_eqpt_codes.iec_eqpt_code)\n",
    "        \n",
    "    #10 minutes data extraction\n",
    "    for MONTH in months_list :\n",
    "        FROM_DATE =  MONTH + '-01 00:00:00'  # included\n",
    "        if int(MONTH[-2:])==12:\n",
    "            TO_DATE = f'{int(MONTH[:-3]) + 1}-01-01 00:00:00'      # not included \n",
    "        elif int(MONTH[-2:])>=9:\n",
    "                TO_DATE = f'{MONTH[:-3]}-{int(MONTH[-2:]) + 1}-01 00:00:00'      # not included \n",
    "        else :\n",
    "            TO_DATE = f'{MONTH[:-3]}-0{int(MONTH[-2:]) + 1}-01 00:00:00'      # not included \n",
    "            TO_DATE = f'2021-12-01 00:00:00'      # not included\n",
    "            \n",
    "        DATES = [d.strftime('%Y%m%d') for d in pd.date_range(FROM_DATE, TO_DATE)]\n",
    "        _10min_tables = [f'eu_data.tur_10m_{date}_q' for date in DATES[:-1]]\n",
    "        query = \"\"\n",
    "        \n",
    "        for i, table in enumerate(_10min_tables):\n",
    "            if i != 0:\n",
    "                query = query + \"UNION\\n\"\n",
    "            query = query + f'''SELECT  asset_id, \n",
    "            ts,\n",
    "            {features_selection_str}\n",
    "            FROM {table} WHERE project = '{PROJECT}' AND tech_source = 'PIOEM' \\n'''\n",
    "            \n",
    "        query = query + \"ORDER BY ts ;\"\n",
    "        \n",
    "        with (connexion_setup('PWU-RSH').connect()) as conn:\n",
    "            _10min = pd.read_sql_query(sql=query, con=conn)    # query_red(conn, query)\n",
    "            \n",
    "        _10min.rename(columns=iec2std, inplace=True)\n",
    "        \n",
    "        # re-order columns\n",
    "        col_selection = _10min.columns.sort_values()\n",
    "        _10min = _10min.loc[:,col_selection]\n",
    "        \n",
    "        _10min_project = pd.concat([_10min_project, _10min])\n",
    "        \n",
    "    #On converti le timestamp\n",
    "    _10min_project['year'] = _10min_project.ts.map(lambda date: date.year)\n",
    "    _10min_project['month'] = _10min_project.ts.map(lambda date: date.month)\n",
    "    _10min_project['day'] = _10min_project.ts.map(lambda date: date.day)\n",
    "    _10min_project['hour'] = _10min_project.ts.map(lambda date: date.hour)\n",
    "    _10min_project['minute'] = _10min_project.ts.map(lambda date: date.minute)\n",
    "    \n",
    "    #On récupère le nom de projet et le numéro de turbine\n",
    "    _10min_project['project'] = _10min_project.asset_id.map(lambda name: name[0:4])\n",
    "    _10min_project['turbine'] = _10min_project.asset_id.map(lambda name: int(name[-3:]))\n",
    "    \n",
    "    #On garde les informations utiles\n",
    "    _10min_project.drop(['asset_id','ts'], axis=1, inplace=True)\n",
    "    #On modifie l'index pour retrouver plus facilement les données\n",
    "    _10min_project.set_index(['project','turbine','year','month','day','hour','minute'], inplace=True)\n",
    "\n",
    "    #Sauvegarde sur le notebook\n",
    "    _10min_path = Path('/home/ec2-user/SageMaker/EtudeWindIndex/Data/Windga/WindGa_hourly/Clean/10min_'+PROJECT+'.csv')\n",
    "    _10min_project.to_csv(_10min_path, index=False, sep=';')\n",
    "    \n",
    "    #Sauvegarde sur le S3\n",
    "    outfile = '10min_'+PROJECT+'.csv'\n",
    "    _10min_project.to_csv(f's3://{S3_bucket_name}/{S3_CSV_FOLD}/{outfile}', index=True, sep=';')"
   ]
  },
  {
   "cell_type": "code",
   "execution_count": null,
   "id": "a7f13ee6",
   "metadata": {},
   "outputs": [],
   "source": []
  }
 ],
 "metadata": {
  "kernelspec": {
   "display_name": "conda_python3",
   "language": "python",
   "name": "conda_python3"
  },
  "language_info": {
   "codemirror_mode": {
    "name": "ipython",
    "version": 3
   },
   "file_extension": ".py",
   "mimetype": "text/x-python",
   "name": "python",
   "nbconvert_exporter": "python",
   "pygments_lexer": "ipython3",
   "version": "3.6.13"
  }
 },
 "nbformat": 4,
 "nbformat_minor": 5
}
