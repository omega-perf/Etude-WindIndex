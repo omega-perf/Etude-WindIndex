{
 "cells": [
  {
   "cell_type": "code",
   "execution_count": 5,
   "id": "b695d27a",
   "metadata": {},
   "outputs": [
    {
     "name": "stdout",
     "output_type": "stream",
     "text": [
      "Requirement already satisfied: xarray in /home/ec2-user/anaconda3/envs/python3/lib/python3.6/site-packages (0.16.2)\n",
      "Requirement already satisfied: setuptools>=38.4 in /home/ec2-user/anaconda3/envs/python3/lib/python3.6/site-packages (from xarray) (49.6.0.post20210108)\n",
      "Requirement already satisfied: numpy>=1.15 in /home/ec2-user/anaconda3/envs/python3/lib/python3.6/site-packages (from xarray) (1.19.5)\n",
      "Requirement already satisfied: pandas>=0.25 in /home/ec2-user/anaconda3/envs/python3/lib/python3.6/site-packages (from xarray) (1.1.5)\n",
      "Requirement already satisfied: python-dateutil>=2.7.3 in /home/ec2-user/anaconda3/envs/python3/lib/python3.6/site-packages (from pandas>=0.25->xarray) (2.8.1)\n",
      "Requirement already satisfied: pytz>=2017.2 in /home/ec2-user/anaconda3/envs/python3/lib/python3.6/site-packages (from pandas>=0.25->xarray) (2021.1)\n",
      "Requirement already satisfied: six>=1.5 in /home/ec2-user/anaconda3/envs/python3/lib/python3.6/site-packages (from python-dateutil>=2.7.3->pandas>=0.25->xarray) (1.15.0)\n",
      "Note: you may need to restart the kernel to use updated packages.\n"
     ]
    }
   ],
   "source": [
    "pip install xarray"
   ]
  },
  {
   "cell_type": "code",
   "execution_count": 6,
   "id": "967103ac",
   "metadata": {},
   "outputs": [],
   "source": [
    "import boto3\n",
    "import xarray as xr #to read netcdf\n",
    "import pandas as pd\n",
    "import os\n",
    "import logging\n",
    "import numpy as np\n",
    "from math import pi\n",
    "import datetime\n",
    "from dateutil.relativedelta import relativedelta\n",
    "from pathlib import Path"
   ]
  },
  {
   "cell_type": "code",
   "execution_count": 7,
   "id": "187874fd",
   "metadata": {},
   "outputs": [],
   "source": [
    "#Logger set-up\n",
    "logging.basicConfig(format=' %(asctime)s -  %(levelname)s -  %(message)s', \n",
    "                    handlers = [logging.StreamHandler()])\n",
    "logging.getLogger().setLevel(logging.INFO)"
   ]
  },
  {
   "cell_type": "code",
   "execution_count": 8,
   "id": "f365e6bc",
   "metadata": {},
   "outputs": [],
   "source": [
    "S3_bucket_name = 'edfred-edfre-sbx-eu-west-1-solar-radiation-data'\n",
    "S3_CSV_FOLD = r'EtudeWindIndex/ERA5'"
   ]
  },
  {
   "cell_type": "code",
   "execution_count": 9,
   "id": "9f41470a",
   "metadata": {},
   "outputs": [
    {
     "name": "stderr",
     "output_type": "stream",
     "text": [
      " 2022-01-28 15:23:04,591 -  INFO -  ascii passed initial chaos probing. Mean measured chaos is 0.000000 %\n",
      " 2022-01-28 15:23:04,593 -  INFO -  ascii should target any language(s) of ['Latin Based']\n",
      " 2022-01-28 15:23:04,598 -  INFO -  We detected language [('English', 1.0), ('Indonesian', 1.0), ('Simple English', 1.0)] using ascii\n",
      " 2022-01-28 15:23:04,599 -  INFO -  ascii is most likely the one. Stopping the process.\n",
      " 2022-01-28 15:23:04,605 -  INFO -  ascii passed initial chaos probing. Mean measured chaos is 0.000000 %\n",
      " 2022-01-28 15:23:04,606 -  INFO -  ascii should target any language(s) of ['Latin Based']\n",
      " 2022-01-28 15:23:04,611 -  INFO -  We detected language [('German', 0.8333), ('Hungarian', 0.8333), ('Slovak', 0.8333), ('English', 0.75), ('Dutch', 0.75), ('Italian', 0.75), ('Swedish', 0.75), ('Norwegian', 0.75), ('Czech', 0.75), ('Indonesian', 0.75), ('Danish', 0.75), ('Polish', 0.6667), ('Finnish', 0.6667), ('Slovene', 0.6667), ('Turkish', 0.5833), ('Vietnamese', 0.5), ('Lithuanian', 0.5)] using ascii\n",
      " 2022-01-28 15:23:04,612 -  INFO -  ascii is most likely the one. Stopping the process.\n",
      " 2022-01-28 15:23:04,635 -  INFO -  ascii passed initial chaos probing. Mean measured chaos is 0.000000 %\n",
      " 2022-01-28 15:23:04,637 -  INFO -  ascii should target any language(s) of ['Latin Based']\n",
      " 2022-01-28 15:23:04,640 -  INFO -  We detected language [('English', 1.0), ('Indonesian', 1.0), ('Simple English', 1.0)] using ascii\n",
      " 2022-01-28 15:23:04,641 -  INFO -  ascii is most likely the one. Stopping the process.\n"
     ]
    }
   ],
   "source": [
    "# read project information and compute associated nodes\n",
    "S3_project_url = f's3://{S3_bucket_name}/ERA5/config/ERA5_project_list.csv'\n",
    "projects = pd.read_csv(S3_project_url, index_col='project_code', sep=';')"
   ]
  },
  {
   "cell_type": "code",
   "execution_count": 10,
   "id": "a392a152",
   "metadata": {},
   "outputs": [
    {
     "data": {
      "text/html": [
       "<div>\n",
       "<style scoped>\n",
       "    .dataframe tbody tr th:only-of-type {\n",
       "        vertical-align: middle;\n",
       "    }\n",
       "\n",
       "    .dataframe tbody tr th {\n",
       "        vertical-align: top;\n",
       "    }\n",
       "\n",
       "    .dataframe thead th {\n",
       "        text-align: right;\n",
       "    }\n",
       "</style>\n",
       "<table border=\"1\" class=\"dataframe\">\n",
       "  <thead>\n",
       "    <tr style=\"text-align: right;\">\n",
       "      <th></th>\n",
       "      <th>latitude</th>\n",
       "      <th>longitude</th>\n",
       "    </tr>\n",
       "    <tr>\n",
       "      <th>project_code</th>\n",
       "      <th></th>\n",
       "      <th></th>\n",
       "    </tr>\n",
       "  </thead>\n",
       "  <tbody>\n",
       "    <tr>\n",
       "      <th>AUQB</th>\n",
       "      <td>43.60</td>\n",
       "      <td>3.622</td>\n",
       "    </tr>\n",
       "    <tr>\n",
       "      <th>AMEL</th>\n",
       "      <td>48.83</td>\n",
       "      <td>6.460</td>\n",
       "    </tr>\n",
       "    <tr>\n",
       "      <th>BOUS</th>\n",
       "      <td>49.19</td>\n",
       "      <td>6.520</td>\n",
       "    </tr>\n",
       "    <tr>\n",
       "      <th>BRIY</th>\n",
       "      <td>49.75</td>\n",
       "      <td>3.400</td>\n",
       "    </tr>\n",
       "    <tr>\n",
       "      <th>CLIT</th>\n",
       "      <td>49.66</td>\n",
       "      <td>-1.370</td>\n",
       "    </tr>\n",
       "  </tbody>\n",
       "</table>\n",
       "</div>"
      ],
      "text/plain": [
       "              latitude  longitude\n",
       "project_code                     \n",
       "AUQB             43.60      3.622\n",
       "AMEL             48.83      6.460\n",
       "BOUS             49.19      6.520\n",
       "BRIY             49.75      3.400\n",
       "CLIT             49.66     -1.370"
      ]
     },
     "execution_count": 10,
     "metadata": {},
     "output_type": "execute_result"
    }
   ],
   "source": [
    "projects.head(5)"
   ]
  },
  {
   "cell_type": "code",
   "execution_count": 11,
   "id": "3544e472",
   "metadata": {},
   "outputs": [],
   "source": [
    "#On choisit la période\n",
    "start_month = '2000-01'\n",
    "end_month = '2021-11'\n",
    "\n",
    "List_projects = ['CDBO','AMEL','ESPS']"
   ]
  },
  {
   "cell_type": "code",
   "execution_count": 12,
   "id": "ae7f7330",
   "metadata": {},
   "outputs": [],
   "source": [
    "#On récupère la courbe de puissance\n",
    "S3_pc_url = f's3://{S3_bucket_name}/ERA5/config/power_curve_V90-3.0MW.csv'\n",
    "power_curve = pd.read_csv(S3_pc_url, index_col='windspeed')"
   ]
  },
  {
   "cell_type": "code",
   "execution_count": 13,
   "id": "0839bc2e",
   "metadata": {},
   "outputs": [
    {
     "name": "stderr",
     "output_type": "stream",
     "text": [
      " 2022-01-28 15:24:47,793 -  INFO -  project : CDBO\n",
      " 2022-01-28 15:27:54,311 -  INFO -  NumExpr defaulting to 2 threads.\n",
      " 2022-01-28 15:28:05,089 -  INFO -  Complété à : 33.33333333333333%\n",
      " 2022-01-28 15:28:05,090 -  INFO -  project : AMEL\n",
      " 2022-01-28 15:31:20,964 -  INFO -  Complété à : 66.66666666666666%\n",
      " 2022-01-28 15:31:20,964 -  INFO -  project : ESPS\n",
      " 2022-01-28 15:34:15,892 -  INFO -  Complété à : 100.0%\n"
     ]
    }
   ],
   "source": [
    "months_range = pd.date_range(start=start_month, end=end_month, freq='MS')\n",
    "\n",
    "for code in projects.loc[List_projects].index :\n",
    "    \n",
    "    logging.info(\"project : {}\".format(code))\n",
    "    \n",
    "    projects_ERA5 = pd.DataFrame(columns=['time','u100','v100','u10','v10','d2m','t2m','sf','sp','msdwswrf','tp'])\n",
    "    projects_ERA5.set_index('time',inplace=True)\n",
    "\n",
    "    for date in months_range :\n",
    "        #Construction des chemins vers les données\n",
    "        input_name_nc = f'ERA5_france_'+str(date)[0:7]+'.nc'\n",
    "        bucket_name = 'edfred-edfre-sbx-eu-west-1-solar-radiation-data'\n",
    "        S3_origin = os.path.join('ERA5', 'netcdf', 'france', input_name_nc)  \n",
    "        body = boto3.Session().resource('s3').Bucket(bucket_name).Object(S3_origin).get()['Body'].read()\n",
    "        netcdf = xr.open_dataset(body, )\n",
    "        #Récupération des données\n",
    "        df_ERA5 = netcdf.sel(latitude=projects.loc[code].latitude, longitude=projects.loc[code].latitude, method=\"nearest\").to_dataframe()\n",
    "        df_ERA5.drop(columns=['longitude', 'latitude'], inplace=True)\n",
    "        \n",
    "        projects_ERA5 = pd.concat([projects_ERA5, df_ERA5])\n",
    "    \n",
    "    #On calcule les vitesses et direction de vent\n",
    "    projects_ERA5['ws100'] = (projects_ERA5['u100']**2 + projects_ERA5['v100']**2)**0.5\n",
    "    projects_ERA5['wd100'] = round(np.arctan2(projects_ERA5['u100'], projects_ERA5['v100'])*180/pi + 180,0)\n",
    "    projects_ERA5['ws10'] = (projects_ERA5['u10']**2 + projects_ERA5['v10']**2)**0.5\n",
    "    projects_ERA5['wd10'] = round(np.arctan2(projects_ERA5['u10'], projects_ERA5['v10'])*180/pi + 180,0)\n",
    "    projects_ERA5['E100'] = np.interp(projects_ERA5['ws100'], power_curve.index, power_curve['power'])  # Energy (using a power curve)\n",
    "    projects_ERA5['rh'] = 100 - 5 * (projects_ERA5['t2m'] - projects_ERA5['d2m'])\n",
    "    projects_ERA5['density'] = projects_ERA5['sp'] /  ( 287.058 * projects_ERA5['t2m'])\n",
    "    projects_ERA5['E100_cor'] = projects_ERA5['E100']*projects_ERA5['density']/1.225   \n",
    "    \n",
    "    #On enlève les colonnes en trop\n",
    "    projects_ERA5.drop(columns=['u100', 'v100'], inplace=True)\n",
    "    projects_ERA5.drop(columns=['u10', 'v10'], inplace=True)\n",
    "    projects_ERA5.drop(columns=['sf', 'msdwswrf', 'tp'], inplace=True)\n",
    "    \n",
    "    #Sauvegarde \n",
    "    ERA5_hourly_path = Path('/home/ec2-user/SageMaker/EtudeWindIndex/Data/ERA5/ERA5_hourly/Clean/ERA5_'+code+'.csv')\n",
    "    projects_ERA5.to_csv(ERA5_hourly_path, index=True, sep=';')\n",
    "    \n",
    "    #Sauvegarde sur le S3\n",
    "    outfile = 'ERA5_'+code+'.csv'\n",
    "    projects_ERA5.to_csv(f's3://{S3_bucket_name}/{S3_CSV_FOLD}/{outfile}', index=True, sep=';')\n",
    "    \n",
    "    logging.info(\"Complété à : \"+str((List_projects.index(code)+1)/len(List_projects)*100)+'%')"
   ]
  },
  {
   "cell_type": "code",
   "execution_count": null,
   "id": "ab8ae240",
   "metadata": {},
   "outputs": [],
   "source": []
  }
 ],
 "metadata": {
  "kernelspec": {
   "display_name": "conda_python3",
   "language": "python",
   "name": "conda_python3"
  },
  "language_info": {
   "codemirror_mode": {
    "name": "ipython",
    "version": 3
   },
   "file_extension": ".py",
   "mimetype": "text/x-python",
   "name": "python",
   "nbconvert_exporter": "python",
   "pygments_lexer": "ipython3",
   "version": "3.6.13"
  }
 },
 "nbformat": 4,
 "nbformat_minor": 5
}
