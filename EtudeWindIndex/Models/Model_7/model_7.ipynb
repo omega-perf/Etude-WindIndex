{
 "cells": [
  {
   "cell_type": "markdown",
   "id": "08ddb7af",
   "metadata": {},
   "source": [
    "# Imports"
   ]
  },
  {
   "cell_type": "code",
   "execution_count": 19,
   "id": "1d4daa4a",
   "metadata": {},
   "outputs": [],
   "source": [
    "import pandas as pd\n",
    "from pathlib import Path\n",
    "from datetime import datetime\n",
    "import numpy as np\n",
    "from statsmodels.formula.api import ols\n",
    "from matplotlib.backends.backend_pdf import PdfPages\n",
    "import matplotlib.pyplot as plt\n",
    "plt.rcParams.update({'figure.max_open_warning': 0})\n",
    "import seaborn as sns\n",
    "import math\n",
    "import random\n",
    "from sklearn.model_selection import train_test_split\n",
    "import logging"
   ]
  },
  {
   "cell_type": "markdown",
   "id": "c4d237c6",
   "metadata": {},
   "source": [
    "# Choix du projet"
   ]
  },
  {
   "cell_type": "code",
   "execution_count": 2,
   "id": "6c0094bd",
   "metadata": {},
   "outputs": [],
   "source": [
    "#Choisir le projet\n",
    "project = 'ESPS'"
   ]
  },
  {
   "cell_type": "markdown",
   "id": "1d276da8",
   "metadata": {},
   "source": [
    "# Récupération des données ERA5"
   ]
  },
  {
   "cell_type": "code",
   "execution_count": 3,
   "id": "b800e215",
   "metadata": {},
   "outputs": [],
   "source": [
    "S3_bucket = 'edfred-edfre-sbx-eu-west-1-solar-radiation-data'\n",
    "S3_era5_folder = r'EtudeWindIndex/ERA5'"
   ]
  },
  {
   "cell_type": "code",
   "execution_count": 4,
   "id": "268a4d8b",
   "metadata": {},
   "outputs": [],
   "source": [
    "#Lecture de l'export horraire de ERA5\n",
    "file_era5 = 'ERA5_' + project\n",
    "S3_era5 = f's3://{S3_bucket}/{S3_era5_folder}/{file_era5}.csv'\n",
    "era5 = pd.read_csv(S3_era5, sep=';')"
   ]
  },
  {
   "cell_type": "code",
   "execution_count": 5,
   "id": "e7584246",
   "metadata": {},
   "outputs": [
    {
     "data": {
      "text/html": [
       "<div>\n",
       "<style scoped>\n",
       "    .dataframe tbody tr th:only-of-type {\n",
       "        vertical-align: middle;\n",
       "    }\n",
       "\n",
       "    .dataframe tbody tr th {\n",
       "        vertical-align: top;\n",
       "    }\n",
       "\n",
       "    .dataframe thead th {\n",
       "        text-align: right;\n",
       "    }\n",
       "</style>\n",
       "<table border=\"1\" class=\"dataframe\">\n",
       "  <thead>\n",
       "    <tr style=\"text-align: right;\">\n",
       "      <th></th>\n",
       "      <th>time</th>\n",
       "      <th>d2m</th>\n",
       "      <th>t2m</th>\n",
       "      <th>sp</th>\n",
       "      <th>ws100</th>\n",
       "      <th>wd100</th>\n",
       "      <th>ws10</th>\n",
       "      <th>wd10</th>\n",
       "      <th>E100</th>\n",
       "      <th>rh</th>\n",
       "      <th>density</th>\n",
       "      <th>E100_cor</th>\n",
       "    </tr>\n",
       "  </thead>\n",
       "  <tbody>\n",
       "    <tr>\n",
       "      <th>190946</th>\n",
       "      <td>2021-10-13 02:00:00</td>\n",
       "      <td>279.97736</td>\n",
       "      <td>280.08950</td>\n",
       "      <td>96876.23</td>\n",
       "      <td>4.184271</td>\n",
       "      <td>358.0</td>\n",
       "      <td>1.901751</td>\n",
       "      <td>355.0</td>\n",
       "      <td>97.822592</td>\n",
       "      <td>99.439240</td>\n",
       "      <td>1.204899</td>\n",
       "      <td>96.217439</td>\n",
       "    </tr>\n",
       "    <tr>\n",
       "      <th>87656</th>\n",
       "      <td>2009-12-31 08:00:00</td>\n",
       "      <td>279.74070</td>\n",
       "      <td>281.10236</td>\n",
       "      <td>94336.74</td>\n",
       "      <td>7.011950</td>\n",
       "      <td>198.0</td>\n",
       "      <td>3.402876</td>\n",
       "      <td>186.0</td>\n",
       "      <td>584.644657</td>\n",
       "      <td>93.191680</td>\n",
       "      <td>1.169087</td>\n",
       "      <td>557.959441</td>\n",
       "    </tr>\n",
       "    <tr>\n",
       "      <th>104649</th>\n",
       "      <td>2011-12-09 09:00:00</td>\n",
       "      <td>279.45490</td>\n",
       "      <td>281.54780</td>\n",
       "      <td>96198.61</td>\n",
       "      <td>11.569339</td>\n",
       "      <td>221.0</td>\n",
       "      <td>6.890117</td>\n",
       "      <td>219.0</td>\n",
       "      <td>2372.166338</td>\n",
       "      <td>89.535520</td>\n",
       "      <td>1.190274</td>\n",
       "      <td>2304.921112</td>\n",
       "    </tr>\n",
       "    <tr>\n",
       "      <th>189967</th>\n",
       "      <td>2021-09-02 07:00:00</td>\n",
       "      <td>283.28552</td>\n",
       "      <td>286.05396</td>\n",
       "      <td>97208.94</td>\n",
       "      <td>3.729085</td>\n",
       "      <td>104.0</td>\n",
       "      <td>1.879926</td>\n",
       "      <td>103.0</td>\n",
       "      <td>56.139541</td>\n",
       "      <td>86.157840</td>\n",
       "      <td>1.183828</td>\n",
       "      <td>54.252699</td>\n",
       "    </tr>\n",
       "    <tr>\n",
       "      <th>34302</th>\n",
       "      <td>2003-11-30 06:00:00</td>\n",
       "      <td>273.99814</td>\n",
       "      <td>277.55856</td>\n",
       "      <td>95833.00</td>\n",
       "      <td>6.249040</td>\n",
       "      <td>176.0</td>\n",
       "      <td>3.244287</td>\n",
       "      <td>155.0</td>\n",
       "      <td>409.781084</td>\n",
       "      <td>82.197876</td>\n",
       "      <td>1.202793</td>\n",
       "      <td>402.352419</td>\n",
       "    </tr>\n",
       "  </tbody>\n",
       "</table>\n",
       "</div>"
      ],
      "text/plain": [
       "                       time        d2m        t2m        sp      ws100  wd100  \\\n",
       "190946  2021-10-13 02:00:00  279.97736  280.08950  96876.23   4.184271  358.0   \n",
       "87656   2009-12-31 08:00:00  279.74070  281.10236  94336.74   7.011950  198.0   \n",
       "104649  2011-12-09 09:00:00  279.45490  281.54780  96198.61  11.569339  221.0   \n",
       "189967  2021-09-02 07:00:00  283.28552  286.05396  97208.94   3.729085  104.0   \n",
       "34302   2003-11-30 06:00:00  273.99814  277.55856  95833.00   6.249040  176.0   \n",
       "\n",
       "            ws10   wd10         E100         rh   density     E100_cor  \n",
       "190946  1.901751  355.0    97.822592  99.439240  1.204899    96.217439  \n",
       "87656   3.402876  186.0   584.644657  93.191680  1.169087   557.959441  \n",
       "104649  6.890117  219.0  2372.166338  89.535520  1.190274  2304.921112  \n",
       "189967  1.879926  103.0    56.139541  86.157840  1.183828    54.252699  \n",
       "34302   3.244287  155.0   409.781084  82.197876  1.202793   402.352419  "
      ]
     },
     "execution_count": 5,
     "metadata": {},
     "output_type": "execute_result"
    }
   ],
   "source": [
    "#Visualisation\n",
    "era5.sample(5)"
   ]
  },
  {
   "cell_type": "code",
   "execution_count": 6,
   "id": "cea495ef",
   "metadata": {},
   "outputs": [],
   "source": [
    "#On converti le timestamp\n",
    "era5['year'] = era5.time.map(lambda date: int(date[:4]))\n",
    "era5['month'] = era5.time.map(lambda date: int(date[5:7]))\n",
    "era5['day'] = era5.time.map(lambda date: int(date[8:10]))\n",
    "era5['hour'] = era5.time.map(lambda date: int(date[11:13]))"
   ]
  },
  {
   "cell_type": "code",
   "execution_count": 7,
   "id": "c1a8a1c3",
   "metadata": {},
   "outputs": [],
   "source": [
    "#On garde les informations utiles\n",
    "era5.drop(['time','d2m','t2m','sp','wd100','ws10','wd10','rh','density','E100_cor'], axis=1, inplace=True)\n",
    "era5.rename(columns={\"E100\": \"energy\", \"ws100\":\"windspeed_era5\"}, inplace=True)\n",
    "era5 = era5[['year','month','day','hour','energy','windspeed_era5']]"
   ]
  },
  {
   "cell_type": "code",
   "execution_count": 8,
   "id": "bb20bcc3",
   "metadata": {},
   "outputs": [
    {
     "data": {
      "text/html": [
       "<div>\n",
       "<style scoped>\n",
       "    .dataframe tbody tr th:only-of-type {\n",
       "        vertical-align: middle;\n",
       "    }\n",
       "\n",
       "    .dataframe tbody tr th {\n",
       "        vertical-align: top;\n",
       "    }\n",
       "\n",
       "    .dataframe thead th {\n",
       "        text-align: right;\n",
       "    }\n",
       "</style>\n",
       "<table border=\"1\" class=\"dataframe\">\n",
       "  <thead>\n",
       "    <tr style=\"text-align: right;\">\n",
       "      <th></th>\n",
       "      <th>year</th>\n",
       "      <th>month</th>\n",
       "      <th>day</th>\n",
       "      <th>hour</th>\n",
       "      <th>energy</th>\n",
       "      <th>windspeed_era5</th>\n",
       "    </tr>\n",
       "  </thead>\n",
       "  <tbody>\n",
       "    <tr>\n",
       "      <th>114894</th>\n",
       "      <td>2013</td>\n",
       "      <td>2</td>\n",
       "      <td>8</td>\n",
       "      <td>6</td>\n",
       "      <td>0.000000</td>\n",
       "      <td>2.686011</td>\n",
       "    </tr>\n",
       "    <tr>\n",
       "      <th>120412</th>\n",
       "      <td>2013</td>\n",
       "      <td>9</td>\n",
       "      <td>26</td>\n",
       "      <td>4</td>\n",
       "      <td>114.138650</td>\n",
       "      <td>4.328661</td>\n",
       "    </tr>\n",
       "    <tr>\n",
       "      <th>63728</th>\n",
       "      <td>2007</td>\n",
       "      <td>4</td>\n",
       "      <td>9</td>\n",
       "      <td>8</td>\n",
       "      <td>0.000000</td>\n",
       "      <td>2.160120</td>\n",
       "    </tr>\n",
       "    <tr>\n",
       "      <th>15961</th>\n",
       "      <td>2001</td>\n",
       "      <td>10</td>\n",
       "      <td>27</td>\n",
       "      <td>1</td>\n",
       "      <td>522.561146</td>\n",
       "      <td>6.743689</td>\n",
       "    </tr>\n",
       "    <tr>\n",
       "      <th>114996</th>\n",
       "      <td>2013</td>\n",
       "      <td>2</td>\n",
       "      <td>12</td>\n",
       "      <td>12</td>\n",
       "      <td>16.302567</td>\n",
       "      <td>3.211722</td>\n",
       "    </tr>\n",
       "  </tbody>\n",
       "</table>\n",
       "</div>"
      ],
      "text/plain": [
       "        year  month  day  hour      energy  windspeed_era5\n",
       "114894  2013      2    8     6    0.000000        2.686011\n",
       "120412  2013      9   26     4  114.138650        4.328661\n",
       "63728   2007      4    9     8    0.000000        2.160120\n",
       "15961   2001     10   27     1  522.561146        6.743689\n",
       "114996  2013      2   12    12   16.302567        3.211722"
      ]
     },
     "execution_count": 8,
     "metadata": {},
     "output_type": "execute_result"
    }
   ],
   "source": [
    "#Visualisation\n",
    "era5.sample(5)"
   ]
  },
  {
   "cell_type": "markdown",
   "id": "9ddacda9",
   "metadata": {},
   "source": [
    "# Récupération des donées 10 min"
   ]
  },
  {
   "cell_type": "code",
   "execution_count": 9,
   "id": "399415d4",
   "metadata": {},
   "outputs": [],
   "source": [
    "#Lecture de l'export horraire turbine\n",
    "S3_bucket = 'edfred-edfre-sbx-eu-west-1-solar-radiation-data'\n",
    "S3_data_folder = r'EtudeWindIndex/Real'\n",
    "file_data = '10min_' + project\n",
    "S3_data = f's3://{S3_bucket}/{S3_data_folder}/{file_data}.csv'\n",
    "data = pd.read_csv(S3_data, sep=';')"
   ]
  },
  {
   "cell_type": "code",
   "execution_count": 10,
   "id": "e9820d8c",
   "metadata": {},
   "outputs": [
    {
     "data": {
      "text/html": [
       "<div>\n",
       "<style scoped>\n",
       "    .dataframe tbody tr th:only-of-type {\n",
       "        vertical-align: middle;\n",
       "    }\n",
       "\n",
       "    .dataframe tbody tr th {\n",
       "        vertical-align: top;\n",
       "    }\n",
       "\n",
       "    .dataframe thead th {\n",
       "        text-align: right;\n",
       "    }\n",
       "</style>\n",
       "<table border=\"1\" class=\"dataframe\">\n",
       "  <thead>\n",
       "    <tr style=\"text-align: right;\">\n",
       "      <th></th>\n",
       "      <th>project</th>\n",
       "      <th>turbine</th>\n",
       "      <th>year</th>\n",
       "      <th>month</th>\n",
       "      <th>day</th>\n",
       "      <th>hour</th>\n",
       "      <th>minute</th>\n",
       "      <th>active_power_avg</th>\n",
       "      <th>wind_speed_avg</th>\n",
       "    </tr>\n",
       "  </thead>\n",
       "  <tbody>\n",
       "    <tr>\n",
       "      <th>1983960</th>\n",
       "      <td>ESPS</td>\n",
       "      <td>3</td>\n",
       "      <td>2020</td>\n",
       "      <td>9</td>\n",
       "      <td>15</td>\n",
       "      <td>12</td>\n",
       "      <td>0</td>\n",
       "      <td>205.9370</td>\n",
       "      <td>4.62285</td>\n",
       "    </tr>\n",
       "    <tr>\n",
       "      <th>2722783</th>\n",
       "      <td>ESPS</td>\n",
       "      <td>4</td>\n",
       "      <td>2020</td>\n",
       "      <td>8</td>\n",
       "      <td>6</td>\n",
       "      <td>15</td>\n",
       "      <td>20</td>\n",
       "      <td>0.0000</td>\n",
       "      <td>1.37104</td>\n",
       "    </tr>\n",
       "    <tr>\n",
       "      <th>1022364</th>\n",
       "      <td>ESPS</td>\n",
       "      <td>1</td>\n",
       "      <td>2020</td>\n",
       "      <td>4</td>\n",
       "      <td>20</td>\n",
       "      <td>22</td>\n",
       "      <td>40</td>\n",
       "      <td>2713.8500</td>\n",
       "      <td>10.53150</td>\n",
       "    </tr>\n",
       "    <tr>\n",
       "      <th>1308905</th>\n",
       "      <td>ESPS</td>\n",
       "      <td>1</td>\n",
       "      <td>2021</td>\n",
       "      <td>5</td>\n",
       "      <td>23</td>\n",
       "      <td>22</td>\n",
       "      <td>10</td>\n",
       "      <td>2898.6100</td>\n",
       "      <td>10.82380</td>\n",
       "    </tr>\n",
       "    <tr>\n",
       "      <th>4115100</th>\n",
       "      <td>ESPS</td>\n",
       "      <td>4</td>\n",
       "      <td>2021</td>\n",
       "      <td>9</td>\n",
       "      <td>23</td>\n",
       "      <td>10</td>\n",
       "      <td>0</td>\n",
       "      <td>40.5665</td>\n",
       "      <td>3.45231</td>\n",
       "    </tr>\n",
       "  </tbody>\n",
       "</table>\n",
       "</div>"
      ],
      "text/plain": [
       "        project  turbine  year  month  day  hour  minute  active_power_avg  \\\n",
       "1983960    ESPS        3  2020      9   15    12       0          205.9370   \n",
       "2722783    ESPS        4  2020      8    6    15      20            0.0000   \n",
       "1022364    ESPS        1  2020      4   20    22      40         2713.8500   \n",
       "1308905    ESPS        1  2021      5   23    22      10         2898.6100   \n",
       "4115100    ESPS        4  2021      9   23    10       0           40.5665   \n",
       "\n",
       "         wind_speed_avg  \n",
       "1983960         4.62285  \n",
       "2722783         1.37104  \n",
       "1022364        10.53150  \n",
       "1308905        10.82380  \n",
       "4115100         3.45231  "
      ]
     },
     "execution_count": 10,
     "metadata": {},
     "output_type": "execute_result"
    }
   ],
   "source": [
    "#Visualisation\n",
    "data.sample(5)"
   ]
  },
  {
   "cell_type": "code",
   "execution_count": 11,
   "id": "d7c93ba6",
   "metadata": {},
   "outputs": [
    {
     "data": {
      "text/plain": [
       "4.797932000000003"
      ]
     },
     "execution_count": 11,
     "metadata": {},
     "output_type": "execute_result"
    }
   ],
   "source": [
    "data[(data.year==2020)&(data.month==11)&(data.day==27)&(data.hour==0)].wind_speed_avg.mean()"
   ]
  },
  {
   "cell_type": "markdown",
   "id": "66c2cbf4",
   "metadata": {},
   "source": [
    "# Synthèse des données utiles"
   ]
  },
  {
   "cell_type": "code",
   "execution_count": 13,
   "id": "4c5c1e2d",
   "metadata": {},
   "outputs": [],
   "source": [
    "#On fusionne les données météo et de production\n",
    "df = pd.merge(era5, data, how='left', on=['year','month','day','hour'])"
   ]
  },
  {
   "cell_type": "code",
   "execution_count": 14,
   "id": "764f4188",
   "metadata": {},
   "outputs": [],
   "source": [
    "filter_data = True"
   ]
  },
  {
   "cell_type": "code",
   "execution_count": 15,
   "id": "768d6c62",
   "metadata": {},
   "outputs": [
    {
     "data": {
      "text/html": [
       "<div>\n",
       "<style scoped>\n",
       "    .dataframe tbody tr th:only-of-type {\n",
       "        vertical-align: middle;\n",
       "    }\n",
       "\n",
       "    .dataframe tbody tr th {\n",
       "        vertical-align: top;\n",
       "    }\n",
       "\n",
       "    .dataframe thead th {\n",
       "        text-align: right;\n",
       "    }\n",
       "</style>\n",
       "<table border=\"1\" class=\"dataframe\">\n",
       "  <thead>\n",
       "    <tr style=\"text-align: right;\">\n",
       "      <th></th>\n",
       "      <th>year</th>\n",
       "      <th>month</th>\n",
       "      <th>day</th>\n",
       "      <th>hour</th>\n",
       "      <th>energy</th>\n",
       "      <th>windspeed_era5</th>\n",
       "      <th>project</th>\n",
       "      <th>turbine</th>\n",
       "      <th>minute</th>\n",
       "      <th>active_power_avg</th>\n",
       "      <th>wind_speed_avg</th>\n",
       "    </tr>\n",
       "  </thead>\n",
       "  <tbody>\n",
       "    <tr>\n",
       "      <th>1787079</th>\n",
       "      <td>2021</td>\n",
       "      <td>1</td>\n",
       "      <td>5</td>\n",
       "      <td>6</td>\n",
       "      <td>0.000000</td>\n",
       "      <td>1.922915</td>\n",
       "      <td>ESPS</td>\n",
       "      <td>1.0</td>\n",
       "      <td>10.0</td>\n",
       "      <td>637.626</td>\n",
       "      <td>6.17148</td>\n",
       "    </tr>\n",
       "    <tr>\n",
       "      <th>1393618</th>\n",
       "      <td>2020</td>\n",
       "      <td>11</td>\n",
       "      <td>5</td>\n",
       "      <td>13</td>\n",
       "      <td>197.895741</td>\n",
       "      <td>5.048440</td>\n",
       "      <td>ESPS</td>\n",
       "      <td>4.0</td>\n",
       "      <td>50.0</td>\n",
       "      <td>2604.370</td>\n",
       "      <td>10.28750</td>\n",
       "    </tr>\n",
       "    <tr>\n",
       "      <th>3359220</th>\n",
       "      <td>2021</td>\n",
       "      <td>7</td>\n",
       "      <td>10</td>\n",
       "      <td>6</td>\n",
       "      <td>0.000000</td>\n",
       "      <td>1.601989</td>\n",
       "      <td>ESPS</td>\n",
       "      <td>2.0</td>\n",
       "      <td>0.0</td>\n",
       "      <td>0.000</td>\n",
       "      <td>2.47481</td>\n",
       "    </tr>\n",
       "    <tr>\n",
       "      <th>3779142</th>\n",
       "      <td>2021</td>\n",
       "      <td>8</td>\n",
       "      <td>17</td>\n",
       "      <td>1</td>\n",
       "      <td>0.000000</td>\n",
       "      <td>2.778846</td>\n",
       "      <td>ESPS</td>\n",
       "      <td>3.0</td>\n",
       "      <td>20.0</td>\n",
       "      <td>84.122</td>\n",
       "      <td>3.42813</td>\n",
       "    </tr>\n",
       "    <tr>\n",
       "      <th>5007670</th>\n",
       "      <td>2021</td>\n",
       "      <td>11</td>\n",
       "      <td>26</td>\n",
       "      <td>7</td>\n",
       "      <td>0.000000</td>\n",
       "      <td>1.730498</td>\n",
       "      <td>ESPS</td>\n",
       "      <td>4.0</td>\n",
       "      <td>20.0</td>\n",
       "      <td>1111.590</td>\n",
       "      <td>7.77985</td>\n",
       "    </tr>\n",
       "  </tbody>\n",
       "</table>\n",
       "</div>"
      ],
      "text/plain": [
       "         year  month  day  hour      energy  windspeed_era5 project  turbine  \\\n",
       "1787079  2021      1    5     6    0.000000        1.922915    ESPS      1.0   \n",
       "1393618  2020     11    5    13  197.895741        5.048440    ESPS      4.0   \n",
       "3359220  2021      7   10     6    0.000000        1.601989    ESPS      2.0   \n",
       "3779142  2021      8   17     1    0.000000        2.778846    ESPS      3.0   \n",
       "5007670  2021     11   26     7    0.000000        1.730498    ESPS      4.0   \n",
       "\n",
       "         minute  active_power_avg  wind_speed_avg  \n",
       "1787079    10.0           637.626         6.17148  \n",
       "1393618    50.0          2604.370        10.28750  \n",
       "3359220     0.0             0.000         2.47481  \n",
       "3779142    20.0            84.122         3.42813  \n",
       "5007670    20.0          1111.590         7.77985  "
      ]
     },
     "execution_count": 15,
     "metadata": {},
     "output_type": "execute_result"
    }
   ],
   "source": [
    "#Filtrage des données manquantes ou éronnées\n",
    "if filter_data :\n",
    "    df= df[~((df.wind_speed_avg.isnull()) | (df.wind_speed_avg == 0))]\n",
    "\n",
    "#Visualisation\n",
    "df.sample(5)"
   ]
  },
  {
   "cell_type": "markdown",
   "id": "3c6a83d4",
   "metadata": {},
   "source": [
    "# Construction du dataframe de régression horraire"
   ]
  },
  {
   "cell_type": "code",
   "execution_count": null,
   "id": "82c869c6",
   "metadata": {},
   "outputs": [
    {
     "name": "stderr",
     "output_type": "stream",
     "text": [
      "INFO:root:year : 2020\n",
      "INFO:root:month : 1\n",
      "INFO:root:month : 2\n",
      "INFO:root:month : 3\n",
      "INFO:root:month : 4\n",
      "INFO:root:month : 5\n",
      "INFO:root:month : 6\n",
      "INFO:root:month : 7\n",
      "INFO:root:month : 8\n",
      "INFO:root:month : 9\n"
     ]
    }
   ],
   "source": [
    "#Calcul des valeurs horaires\n",
    "logging.basicConfig(format=' %(asctime)s -  %(levelname)s -  %(message)s', handlers = [logging.StreamHandler()])\n",
    "logging.getLogger().setLevel(logging.INFO)\n",
    "\n",
    "hourly = pd.DataFrame(columns=['year','month','day','hour','windspeed_data','windspeed_era5'])\n",
    "\n",
    "for year in df.year.unique().tolist() :\n",
    "    logging.info(\"year : {}\".format(year))\n",
    "    for month in df[df.year==year].month.unique().tolist() :\n",
    "        logging.info(\"month : {}\".format(month))\n",
    "        for day in df[(df.year==year)&(df.month==month)].day.unique().tolist() :\n",
    "            for hour in df[(df.year==year)&(df.month==month)&(df.day==day)].hour.unique().tolist() :\n",
    "                \n",
    "                mask_data = (df.year==year) & (df.month==month) & (df.day==day) & (df.hour==hour)\n",
    "                windspeed_data = df.loc[mask_data].wind_speed_avg.mean()\n",
    "                \n",
    "                mask_era5 = (era5.year==year) & (era5.month==month) & (era5.day==day) & (era5.hour==hour)\n",
    "                try :\n",
    "                    windspeed_era5 = float(era5.loc[mask_era5].windspeed_era5)\n",
    "                except :\n",
    "                    windspeed_era5 = 0\n",
    "                \n",
    "                hourly = hourly.append({'year':year,'month':month,'day':day,'hour':hour,'windspeed_data':windspeed_data,'windspeed_era5':windspeed_era5},ignore_index=True)"
   ]
  },
  {
   "cell_type": "code",
   "execution_count": 26,
   "id": "b7152d97",
   "metadata": {},
   "outputs": [
    {
     "data": {
      "text/html": [
       "<div>\n",
       "<style scoped>\n",
       "    .dataframe tbody tr th:only-of-type {\n",
       "        vertical-align: middle;\n",
       "    }\n",
       "\n",
       "    .dataframe tbody tr th {\n",
       "        vertical-align: top;\n",
       "    }\n",
       "\n",
       "    .dataframe thead th {\n",
       "        text-align: right;\n",
       "    }\n",
       "</style>\n",
       "<table border=\"1\" class=\"dataframe\">\n",
       "  <thead>\n",
       "    <tr style=\"text-align: right;\">\n",
       "      <th></th>\n",
       "      <th>year</th>\n",
       "      <th>month</th>\n",
       "      <th>day</th>\n",
       "      <th>hour</th>\n",
       "      <th>windspeed_data</th>\n",
       "      <th>windspeed_era5</th>\n",
       "    </tr>\n",
       "  </thead>\n",
       "  <tbody>\n",
       "    <tr>\n",
       "      <th>10846</th>\n",
       "      <td>2021</td>\n",
       "      <td>3</td>\n",
       "      <td>28</td>\n",
       "      <td>18</td>\n",
       "      <td>5.763467</td>\n",
       "      <td>186186    3.934382\n",
       "Name: windspeed_era5, dtype...</td>\n",
       "    </tr>\n",
       "    <tr>\n",
       "      <th>6033</th>\n",
       "      <td>2020</td>\n",
       "      <td>9</td>\n",
       "      <td>8</td>\n",
       "      <td>9</td>\n",
       "      <td>1.149172</td>\n",
       "      <td>181353    1.401612\n",
       "Name: windspeed_era5, dtype...</td>\n",
       "    </tr>\n",
       "    <tr>\n",
       "      <th>15003</th>\n",
       "      <td>2021</td>\n",
       "      <td>9</td>\n",
       "      <td>18</td>\n",
       "      <td>7</td>\n",
       "      <td>3.229638</td>\n",
       "      <td>190351    1.965344\n",
       "Name: windspeed_era5, dtype...</td>\n",
       "    </tr>\n",
       "    <tr>\n",
       "      <th>11598</th>\n",
       "      <td>2021</td>\n",
       "      <td>4</td>\n",
       "      <td>29</td>\n",
       "      <td>10</td>\n",
       "      <td>4.302785</td>\n",
       "      <td>186946    6.800597\n",
       "Name: windspeed_era5, dtype...</td>\n",
       "    </tr>\n",
       "    <tr>\n",
       "      <th>11799</th>\n",
       "      <td>2021</td>\n",
       "      <td>5</td>\n",
       "      <td>7</td>\n",
       "      <td>19</td>\n",
       "      <td>2.704615</td>\n",
       "      <td>187147    2.150003\n",
       "Name: windspeed_era5, dtype...</td>\n",
       "    </tr>\n",
       "  </tbody>\n",
       "</table>\n",
       "</div>"
      ],
      "text/plain": [
       "       year  month  day  hour  windspeed_data  \\\n",
       "10846  2021      3   28    18        5.763467   \n",
       "6033   2020      9    8     9        1.149172   \n",
       "15003  2021      9   18     7        3.229638   \n",
       "11598  2021      4   29    10        4.302785   \n",
       "11799  2021      5    7    19        2.704615   \n",
       "\n",
       "                                          windspeed_era5  \n",
       "10846  186186    3.934382\n",
       "Name: windspeed_era5, dtype...  \n",
       "6033   181353    1.401612\n",
       "Name: windspeed_era5, dtype...  \n",
       "15003  190351    1.965344\n",
       "Name: windspeed_era5, dtype...  \n",
       "11598  186946    6.800597\n",
       "Name: windspeed_era5, dtype...  \n",
       "11799  187147    2.150003\n",
       "Name: windspeed_era5, dtype...  "
      ]
     },
     "execution_count": 26,
     "metadata": {},
     "output_type": "execute_result"
    }
   ],
   "source": [
    "hourly.year = hourly.year.apply(int)\n",
    "hourly.month = hourly.month.apply(int)\n",
    "hourly.day = hourly.day.apply(int)\n",
    "hourly.hour = hourly.hour.apply(int)\n",
    "hourly.sample(5)"
   ]
  },
  {
   "cell_type": "code",
   "execution_count": 30,
   "id": "212dbc1b",
   "metadata": {},
   "outputs": [
    {
     "data": {
      "text/plain": [
       "0        175320    3.456653\n",
       "Name: windspeed_era5, dtype...\n",
       "1        175321    3.275481\n",
       "Name: windspeed_era5, dtype...\n",
       "2        175322    2.995463\n",
       "Name: windspeed_era5, dtype...\n",
       "3        175323    2.939084\n",
       "Name: windspeed_era5, dtype...\n",
       "4        175324    3.038922\n",
       "Name: windspeed_era5, dtype...\n",
       "                               ...                        \n",
       "16767    192115    9.858381\n",
       "Name: windspeed_era5, dtype...\n",
       "16768    192116    9.686021\n",
       "Name: windspeed_era5, dtype...\n",
       "16769    192117    9.686999\n",
       "Name: windspeed_era5, dtype...\n",
       "16770    192118    9.731694\n",
       "Name: windspeed_era5, dtype...\n",
       "16771    192119    10.273952\n",
       "Name: windspeed_era5, dtyp...\n",
       "Name: windspeed_era5, Length: 16772, dtype: object"
      ]
     },
     "execution_count": 30,
     "metadata": {},
     "output_type": "execute_result"
    }
   ],
   "source": [
    "hourly.windspeed_era5"
   ]
  },
  {
   "cell_type": "code",
   "execution_count": null,
   "id": "60fe8009",
   "metadata": {},
   "outputs": [],
   "source": [
    "#Sauvergarde des données dans SageMaker\n",
    "hourly.to_csv('/home/ec2-user/SageMaker/EtudeWindIndex/Models/Model_7/hourly.csv', sep=';')"
   ]
  },
  {
   "cell_type": "markdown",
   "id": "da5133ce",
   "metadata": {},
   "source": [
    "# Création des trainset et testset"
   ]
  },
  {
   "cell_type": "code",
   "execution_count": null,
   "id": "601f4fdc",
   "metadata": {},
   "outputs": [],
   "source": [
    "#pd.options.mode.chained_assignment = None\n",
    "trainset, testset = train_test_split(hourly, test_size=0.33, random_state=42, stratify=hourly.loc[:,['year','month','day']])"
   ]
  },
  {
   "cell_type": "code",
   "execution_count": null,
   "id": "6469c1c0",
   "metadata": {},
   "outputs": [],
   "source": [
    "#Visualisation\n",
    "trainset.sample(5)"
   ]
  },
  {
   "cell_type": "code",
   "execution_count": null,
   "id": "d1df1f90",
   "metadata": {},
   "outputs": [],
   "source": [
    "#Visualisation\n",
    "testset.sample(5)"
   ]
  },
  {
   "cell_type": "markdown",
   "id": "952bd53e",
   "metadata": {},
   "source": [
    "# Régression horraire"
   ]
  },
  {
   "cell_type": "code",
   "execution_count": null,
   "id": "16720619",
   "metadata": {},
   "outputs": [],
   "source": [
    "#définition du calcul de l'erreur (root minimal square error)\n",
    "def rmse_calc(predictions, targets):\n",
    "    return np.sqrt(((predictions - targets) ** 2).mean())"
   ]
  },
  {
   "cell_type": "code",
   "execution_count": null,
   "id": "8ebfec2b",
   "metadata": {},
   "outputs": [],
   "source": [
    "plots = Path('/home/ec2-user/SageMaker/EtudeWindIndex/Models/Model_7/plots_7.pdf')"
   ]
  },
  {
   "cell_type": "code",
   "execution_count": null,
   "id": "4ced08b1",
   "metadata": {},
   "outputs": [],
   "source": [
    "params = []\n",
    "\n",
    "with PdfPages(plots) as pdf:\n",
    "    #On récupère le vecteur de données\n",
    "    X = trainset\n",
    "        \n",
    "    #Calcul des outliers\n",
    "    m = ols('windspeed_data ~ windspeed_era5',X).fit()\n",
    "    infl = m.get_influence()\n",
    "    sm_fr = infl.summary_frame()\n",
    "    cooks_d_tresh = 4 / len(X)\n",
    "    mask = sm_fr.cooks_d < cooks_d_tresh\n",
    "    #Régression sans les outliers\n",
    "    m_clean = ols('windspeed_data ~ windspeed_era5', X.loc[mask,]).fit()\n",
    "\n",
    "    #On récupère les paramètres à afficher\n",
    "    rmse = round(rmse_calc(m_clean.predict(X.loc[mask,\"windspeed_era5\"]),X.loc[mask,\"windspeed_data\"]),0)\n",
    "    intercept = round(m_clean.params.Intercept,0)\n",
    "    slope = round(m_clean.params.windspeed_era5,2)\n",
    "    rsquare = round(m_clean.rsquared, 2)\n",
    "    #On sauvegarde les paramètres\n",
    "    params.append([project, slope, intercept, rmse, rsquare])\n",
    "        \n",
    "    #On trace le graphique\n",
    "    fig = plt.figure(figsize=(12, 5))\n",
    "    plt.suptitle(project,fontsize=16, fontweight=\"bold\")\n",
    "    plt.subplot(1, 2, 1)\n",
    "    plt.title(f\" R²={rsquare}\\n rmse = {round(rmse/1000,0)} MWh\\n  y = {slope} x + {intercept}\", size=12, fontweight=\"bold\")\n",
    "    sns.scatterplot(x='windspeed_era5', y='windspeed_data',data=X.loc[mask,]) \n",
    "    sns.scatterplot(x='windspeed_era5', y='windspeed_data',data=X.loc[~mask,], color='r')\n",
    "    sns.lineplot(x=X.windspeed_era5, y=m.predict(X.windspeed_era5), color='r', alpha=0.3)\n",
    "    sns.lineplot(x=X.windspeed_era5, y=m_clean.predict(X.windspeed_era5))\n",
    "    plt.xticks(color='w')\n",
    "    plt.yticks(color='w')\n",
    "    #Turn off tick labels\n",
    "    ax = plt.gca()\n",
    "    ax.axes.xaxis.set_ticks([])\n",
    "    ax.axes.yaxis.set_ticks([])\n",
    "    #On sauvegarde le graphique\n",
    "    pdf.savefig(fig)\n",
    "\n",
    "    plt.close()"
   ]
  },
  {
   "cell_type": "markdown",
   "id": "7df7bfb0",
   "metadata": {},
   "source": [
    "# Construction du dataframe de régression journalière"
   ]
  },
  {
   "cell_type": "code",
   "execution_count": null,
   "id": "3005af44",
   "metadata": {},
   "outputs": [],
   "source": [
    "#Calcul des valeurs horaires\n",
    "daily = pd.DataFrame(columns=['year','month','day','windspeed_data','windspeed_era5'])\n",
    "\n",
    "for year in df.year.unique().tolist() :\n",
    "    for month in df[df.year==year].month.unique().tolist() :\n",
    "        for day in df[(df.year==year)&(df.month==month)].day.unique().tolist() :\n",
    "                \n",
    "                mask_data = (df.year==year) & (df.month==month) & (df.day==day)\n",
    "                windspeed_data = df.loc[mask_data].wind_speed_avg.mean()\n",
    "                \n",
    "                mask_era5 = (era5.year==year) & (era5.month==month) & (era5.day==day)\n",
    "                try :\n",
    "                    windspeed_era5 = era5.loc[mask_era5].windspeed_era5.mean()\n",
    "                except :\n",
    "                    windspeed_era5 = 0\n",
    "                \n",
    "                daily = daily.append({'year':year,'month':month,'day':day,'windspeed_data':windspeed_data,'windspeed_era5':windspeed_era5},ignore_index=True)"
   ]
  },
  {
   "cell_type": "code",
   "execution_count": null,
   "id": "9ccf6940",
   "metadata": {},
   "outputs": [],
   "source": [
    "daily.year = daily.year.apply(int)\n",
    "daily.month = daily.month.apply(int)\n",
    "daily.day = daily.day.apply(int)\n",
    "daily.sample(5)"
   ]
  },
  {
   "cell_type": "markdown",
   "id": "d5e1bf19",
   "metadata": {},
   "source": [
    "# Création des trainset et testset"
   ]
  },
  {
   "cell_type": "code",
   "execution_count": null,
   "id": "2010535c",
   "metadata": {},
   "outputs": [],
   "source": [
    "#pd.options.mode.chained_assignment = None\n",
    "trainset, testset = train_test_split(hourly, test_size=0.33, random_state=42, stratify=hourly.loc[:,['year','month','day']])"
   ]
  },
  {
   "cell_type": "code",
   "execution_count": null,
   "id": "cead3694",
   "metadata": {},
   "outputs": [],
   "source": [
    "#Visualisation\n",
    "trainset.sample(5)"
   ]
  },
  {
   "cell_type": "code",
   "execution_count": null,
   "id": "152932fe",
   "metadata": {},
   "outputs": [],
   "source": [
    "#Visualisation\n",
    "testset.sample(5)"
   ]
  },
  {
   "cell_type": "markdown",
   "id": "dd0d7724",
   "metadata": {},
   "source": [
    "# Régression journalière"
   ]
  },
  {
   "cell_type": "code",
   "execution_count": null,
   "id": "d5052e82",
   "metadata": {},
   "outputs": [],
   "source": [
    "plot_daily = Path('/home/ec2-user/SageMaker/EtudeWindIndex/Models/Model_7/plots_day_m7.pdf')"
   ]
  },
  {
   "cell_type": "code",
   "execution_count": null,
   "id": "b7516468",
   "metadata": {},
   "outputs": [],
   "source": [
    "params = []\n",
    "\n",
    "with PdfPages(plot_daily) as pdf:\n",
    "    #On récupère le vecteur de données\n",
    "    X = trainset\n",
    "        \n",
    "    #Calcul des outliers\n",
    "    m = ols('windspeed_data ~ windspeed_era5',X).fit()\n",
    "    infl = m.get_influence()\n",
    "    sm_fr = infl.summary_frame()\n",
    "    cooks_d_tresh = 4 / len(X)\n",
    "    mask = sm_fr.cooks_d < cooks_d_tresh\n",
    "    #Régression sans les outliers\n",
    "    m_clean = ols('windspeed_data ~ windspeed_era5', X.loc[mask,]).fit()\n",
    "\n",
    "    #On récupère les paramètres à afficher\n",
    "    rmse = round(rmse_calc(m_clean.predict(X.loc[mask,\"windspeed_era5\"]),X.loc[mask,\"windspeed_data\"]),0)\n",
    "    intercept = round(m_clean.params.Intercept,0)\n",
    "    slope = round(m_clean.params.windspeed_era5,2)\n",
    "    rsquare = round(m_clean.rsquared, 2)\n",
    "    #On sauvegarde les paramètres\n",
    "    params.append([project, slope, intercept, rmse, rsquare])\n",
    "        \n",
    "    #On trace le graphique\n",
    "    fig = plt.figure(figsize=(12, 5))\n",
    "    plt.suptitle(project,fontsize=16, fontweight=\"bold\")\n",
    "    plt.subplot(1, 2, 1)\n",
    "    plt.title(f\" R²={rsquare}\\n rmse = {round(rmse/1000,0)} MWh\\n  y = {slope} x + {intercept}\", size=12, fontweight=\"bold\")\n",
    "    sns.scatterplot(x='windspeed_era5', y='windspeed_data',data=X.loc[mask,]) \n",
    "    sns.scatterplot(x='windspeed_era5', y='windspeed_data',data=X.loc[~mask,], color='r')\n",
    "    sns.lineplot(x=X.windspeed_era5, y=m.predict(X.windspeed_era5), color='r', alpha=0.3)\n",
    "    sns.lineplot(x=X.windspeed_era5, y=m_clean.predict(X.windspeed_era5))\n",
    "    plt.xticks(color='w')\n",
    "    plt.yticks(color='w')\n",
    "    #Turn off tick labels\n",
    "    ax = plt.gca()\n",
    "    ax.axes.xaxis.set_ticks([])\n",
    "    ax.axes.yaxis.set_ticks([])\n",
    "    #On sauvegarde le graphique\n",
    "    pdf.savefig(fig)\n",
    "\n",
    "    plt.close()"
   ]
  },
  {
   "cell_type": "markdown",
   "id": "ffe3323e",
   "metadata": {},
   "source": [
    "# Régression mensuelle"
   ]
  },
  {
   "cell_type": "code",
   "execution_count": null,
   "id": "43e17d6e",
   "metadata": {},
   "outputs": [],
   "source": [
    "#On crée un trainset journalier\n",
    "train_monthly = pd.DataFrame(columns=['year','month','windspeed_data','windspeed_era5'])\n",
    "for year in train_hourly.year.unique().tolist() :\n",
    "    for month in train_hourly.month.unique().tolist() :\n",
    "        for day in train_hourly.day.unique().tolist() :\n",
    "            mask = (train_hourly.year==year) & (train_hourly.month==month)\n",
    "            windspeed_data = train_hourly.loc[mask].windspeed_data.mean()\n",
    "            windspeed_era5 = train_hourly.loc[mask].windspeed_era5.mean()\n",
    "            train_monthly = train_monthly.append({'year':year,'month':month,'windspeed_data':windspeed_data,'windspeed_era5':windspeed_era5},ignore_index=True)"
   ]
  },
  {
   "cell_type": "code",
   "execution_count": null,
   "id": "7a4fb94e",
   "metadata": {},
   "outputs": [],
   "source": [
    "#On  converti dans les dates en entiers\n",
    "train_monthly.year = train_monthly.year.apply(int)\n",
    "train_monthly.month = train_monthly.month.apply(int)"
   ]
  },
  {
   "cell_type": "code",
   "execution_count": null,
   "id": "7cec7159",
   "metadata": {},
   "outputs": [],
   "source": [
    "#Visualisation\n",
    "train_monthly.dropna(inplace=True)\n",
    "train_monthly.sample(5)"
   ]
  },
  {
   "cell_type": "code",
   "execution_count": null,
   "id": "bda19947",
   "metadata": {},
   "outputs": [],
   "source": [
    "#On crée un testset mensuel\n",
    "test_monthly = pd.DataFrame(columns=['year','month','windspeed_data','windspeed_era5'])\n",
    "for year in test_hourly.year.unique().tolist() :\n",
    "    for month in test_hourly.month.unique().tolist() :\n",
    "        for day in test_hourly.day.unique().tolist() :\n",
    "            mask = (test_hourly.year==year) & (test_hourly.month==month) & (test_hourly.day==day)\n",
    "            windspeed_data = test_hourly.loc[mask].windspeed_data.mean()\n",
    "            windspeed_era5 = test_hourly.loc[mask].windspeed_era5.mean()\n",
    "            test_monthly = test_monthly.append({'year':year,'month':month,'windspeed_data':windspeed_data,'windspeed_era5':windspeed_era5},ignore_index=True)"
   ]
  },
  {
   "cell_type": "code",
   "execution_count": null,
   "id": "677130f2",
   "metadata": {},
   "outputs": [],
   "source": [
    "#On  converti dans les dates en entiers\n",
    "test_monthly.year = test_monthly.year.apply(int)\n",
    "test_monthly.month = test_monthly.month.apply(int)"
   ]
  },
  {
   "cell_type": "code",
   "execution_count": null,
   "id": "539f6b24",
   "metadata": {},
   "outputs": [],
   "source": [
    "#Visualisation\n",
    "test_monthly.dropna(inplace=True)\n",
    "test_monthly.sample(5)"
   ]
  },
  {
   "cell_type": "code",
   "execution_count": null,
   "id": "2371b9e9",
   "metadata": {},
   "outputs": [],
   "source": [
    "plot_monthly = Path('/home/ec2-user/SageMaker/EtudeWindIndex/Models/Model_7/plots_month_m7.pdf')"
   ]
  },
  {
   "cell_type": "code",
   "execution_count": null,
   "id": "3629a3b5",
   "metadata": {},
   "outputs": [],
   "source": [
    "params = []\n",
    "\n",
    "with PdfPages(plot_monthly) as pdf:\n",
    "    #On récupère le vecteur de données\n",
    "    X = train_monthly\n",
    "        \n",
    "    #Calcul des outliers\n",
    "    m = ols('windspeed_data ~ windspeed_era5',X).fit()\n",
    "    infl = m.get_influence()\n",
    "    sm_fr = infl.summary_frame()\n",
    "    cooks_d_tresh = 4 / len(X)\n",
    "    mask = sm_fr.cooks_d < cooks_d_tresh\n",
    "    #Régression sans les outliers\n",
    "    m_clean = ols('windspeed_data ~ windspeed_era5', X.loc[mask,]).fit()\n",
    "\n",
    "    #On récupère les paramètres à afficher\n",
    "    rmse = round(rmse_calc(m_clean.predict(X.loc[mask,\"windspeed_era5\"]),X.loc[mask,\"windspeed_data\"]),0)\n",
    "    intercept = round(m_clean.params.Intercept,0)\n",
    "    slope = round(m_clean.params.windspeed_era5,2)\n",
    "    rsquare = round(m_clean.rsquared, 2)\n",
    "    #On sauvegarde les paramètres\n",
    "    params.append([project, slope, intercept, rmse, rsquare])\n",
    "        \n",
    "    #On trace le graphique\n",
    "    fig = plt.figure(figsize=(12, 5))\n",
    "    plt.suptitle(project,fontsize=16, fontweight=\"bold\")\n",
    "    plt.subplot(1, 2, 1)\n",
    "    plt.title(f\" R²={rsquare}\\n rmse = {round(rmse/1000,0)} MWh\\n  y = {slope} x + {intercept}\", size=12, fontweight=\"bold\")\n",
    "    sns.scatterplot(x='windspeed_era5', y='windspeed_data',data=X.loc[mask,]) \n",
    "    sns.scatterplot(x='windspeed_era5', y='windspeed_data',data=X.loc[~mask,], color='r')\n",
    "    sns.lineplot(x=X.windspeed_era5, y=m.predict(X.windspeed_era5), color='r', alpha=0.3)\n",
    "    sns.lineplot(x=X.windspeed_era5, y=m_clean.predict(X.windspeed_era5))\n",
    "    plt.xticks(color='w')\n",
    "    plt.yticks(color='w')\n",
    "    #Turn off tick labels\n",
    "    ax = plt.gca()\n",
    "    ax.axes.xaxis.set_ticks([])\n",
    "    ax.axes.yaxis.set_ticks([])\n",
    "    #On sauvegarde le graphique\n",
    "    pdf.savefig(fig)\n",
    "\n",
    "    plt.close()"
   ]
  },
  {
   "cell_type": "code",
   "execution_count": null,
   "id": "e7543d30",
   "metadata": {},
   "outputs": [],
   "source": []
  }
 ],
 "metadata": {
  "kernelspec": {
   "display_name": "conda_python3",
   "language": "python",
   "name": "conda_python3"
  },
  "language_info": {
   "codemirror_mode": {
    "name": "ipython",
    "version": 3
   },
   "file_extension": ".py",
   "mimetype": "text/x-python",
   "name": "python",
   "nbconvert_exporter": "python",
   "pygments_lexer": "ipython3",
   "version": "3.6.13"
  }
 },
 "nbformat": 4,
 "nbformat_minor": 5
}
